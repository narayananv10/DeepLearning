{
  "nbformat": 4,
  "nbformat_minor": 0,
  "metadata": {
    "colab": {
      "name": "DL_LabTest_J054.ipynb",
      "provenance": [],
      "collapsed_sections": [],
      "mount_file_id": "1Kdn9iIJjfFy8AU3Mqj6r5ce9kQgDXQzq",
      "authorship_tag": "ABX9TyNdyLVFfO8Os6WkM9hpKx5R",
      "include_colab_link": true
    },
    "kernelspec": {
      "name": "python3",
      "display_name": "Python 3"
    },
    "accelerator": "GPU"
  },
  "cells": [
    {
      "cell_type": "markdown",
      "metadata": {
        "id": "view-in-github",
        "colab_type": "text"
      },
      "source": [
        "<a href=\"https://colab.research.google.com/github/narayananv10/DeepLearning/blob/master/DL_LabTest_J054.ipynb\" target=\"_parent\"><img src=\"https://colab.research.google.com/assets/colab-badge.svg\" alt=\"Open In Colab\"/></a>"
      ]
    },
    {
      "cell_type": "code",
      "metadata": {
        "id": "mz963dX8a0-1",
        "colab_type": "code",
        "colab": {}
      },
      "source": [
        "import numpy as np\n",
        "import pandas as pd\n",
        "import cv2\n",
        "import PIL.Image\n",
        "import os"
      ],
      "execution_count": 0,
      "outputs": []
    },
    {
      "cell_type": "code",
      "metadata": {
        "id": "t_x2E6ficoUc",
        "colab_type": "code",
        "colab": {}
      },
      "source": [
        "X=[]\n",
        "Z=[]\n",
        "IMG_SIZE=150\n",
        "AGRICULTURAL_DIR='/content/drive/My Drive/Colab Notebooks/Images/Images/agricultural' \n",
        "AIRPLANE_DIR='/content/drive/My Drive/Colab Notebooks/Images/Images/airplane'\n",
        "BASEBALLDIAMOND_DIR='/content/drive/My Drive/Colab Notebooks/Images/Images/baseballdiamond'\n",
        "BEACH_DIR='/content/drive/My Drive/Colab Notebooks/Images/Images/beach'\n",
        "BUILDINGS_DIR='/content/drive/My Drive/Colab Notebooks/Images/Images/buildings'\n",
        "CHAPARRAL_DIR='/content/drive/My Drive/Colab Notebooks/Images/Images/chaparral'\n",
        "DENSERESIDENTIAL_DIR='/content/drive/My Drive/Colab Notebooks/Images/Images/denseresidential'\n",
        "FOREST_DIR='/content/drive/My Drive/Colab Notebooks/Images/Images/forest'\n",
        "FREEWAY_DIR='/content/drive/My Drive/Colab Notebooks/Images/Images/freeway'\n",
        "GOLFCOURSE_DIR='/content/drive/My Drive/Colab Notebooks/Images/Images/golfcourse'\n",
        "HARBOR_DIR='/content/drive/My Drive/Colab Notebooks/Images/Images/harbor'\n",
        "INTERSECTION_DIR='/content/drive/My Drive/Colab Notebooks/Images/Images/intersection'\n",
        "MEDIUMRESIDENTIAL_DIR='/content/drive/My Drive/Colab Notebooks/Images/Images/mediumresidential'\n",
        "MOBILEHOMEPARK_DIR='/content/drive/My Drive/Colab Notebooks/Images/Images/mobilehomepark'\n",
        "OVERPASS_DIR='/content/drive/My Drive/Colab Notebooks/Images/Images/overpass'\n",
        "PARKINGLOT_DIR='/content/drive/My Drive/Colab Notebooks/Images/Images/parkinglot'\n",
        "RIVER_DIR='/content/drive/My Drive/Colab Notebooks/Images/Images/river'\n",
        "RUNWAY_DIR='/content/drive/My Drive/Colab Notebooks/Images/Images/runway'\n",
        "SPARSERESIDENTIAL_DIR='/content/drive/My Drive/Colab Notebooks/Images/Images/sparseresidential'\n",
        "STORAGETANKS_DIR='/content/drive/My Drive/Colab Notebooks/Images/Images/storagetanks'\n",
        "TENNISCOURT_DIR='/content/drive/My Drive/Colab Notebooks/Images/Images/tenniscourt'"
      ],
      "execution_count": 0,
      "outputs": []
    },
    {
      "cell_type": "code",
      "metadata": {
        "id": "LqcAXdSMcs3Y",
        "colab_type": "code",
        "colab": {}
      },
      "source": [
        "def assign_label(img,image_type):\n",
        "    return image_type\n",
        "\n",
        "def make_train_data(image_type,DIR):\n",
        "    for img in tqdm(os.listdir(DIR)):\n",
        "        label=assign_label(img,image_type)\n",
        "        path = os.path.join(DIR,img)\n",
        "        img = cv2.imread(path,cv2.IMREAD_COLOR)\n",
        "        img = cv2.resize(img, (IMG_SIZE,IMG_SIZE))\n",
        "        \n",
        "        X.append(np.array(img))\n",
        "        Z.append(str(label))"
      ],
      "execution_count": 0,
      "outputs": []
    },
    {
      "cell_type": "code",
      "metadata": {
        "id": "Sd7IFjaLcwK2",
        "colab_type": "code",
        "outputId": "66a8feb1-caaf-47dc-d0e0-bd2c118470b8",
        "colab": {
          "base_uri": "https://localhost:8080/",
          "height": 731
        }
      },
      "source": [
        "from tqdm import tqdm\n",
        "make_train_data('Agricultural',AGRICULTURAL_DIR)\n",
        "print(len(X))\n",
        "make_train_data('Airplane',AIRPLANE_DIR)\n",
        "print(len(X))\n",
        "make_train_data('Baseball Diamond',BASEBALLDIAMOND_DIR)\n",
        "print(len(X))\n",
        "make_train_data('Beach',BEACH_DIR)\n",
        "print(len(X))\n",
        "make_train_data('Buildings',BUILDINGS_DIR)\n",
        "print(len(X))\n",
        "make_train_data('Chaparral',CHAPARRAL_DIR)\n",
        "print(len(X))\n",
        "make_train_data('Dense Residential',DENSERESIDENTIAL_DIR)\n",
        "print(len(X))\n",
        "make_train_data('Forest',FOREST_DIR)\n",
        "print(len(X))\n",
        "make_train_data('Freeway',FREEWAY_DIR)\n",
        "print(len(X))\n",
        "make_train_data('Golfcourse',GOLFCOURSE_DIR)\n",
        "print(len(X))\n",
        "make_train_data('Harbor',HARBOR_DIR)\n",
        "print(len(X))\n",
        "make_train_data('Intersection',INTERSECTION_DIR)\n",
        "print(len(X))\n",
        "make_train_data('Medium Residential',MEDIUMRESIDENTIAL_DIR)\n",
        "print(len(X))\n",
        "make_train_data('Mobile Home Park',MOBILEHOMEPARK_DIR)\n",
        "print(len(X))\n",
        "make_train_data('Overpass',OVERPASS_DIR)\n",
        "print(len(X))\n",
        "make_train_data('Parking Lot',PARKINGLOT_DIR)\n",
        "print(len(X))\n",
        "make_train_data('River',RIVER_DIR)\n",
        "print(len(X))\n",
        "make_train_data('Runway',RUNWAY_DIR)\n",
        "print(len(X))\n",
        "make_train_data('Sparse Residential',SPARSERESIDENTIAL_DIR)\n",
        "print(len(X))\n",
        "make_train_data('Storage Tanks',STORAGETANKS_DIR)\n",
        "print(len(X))\n",
        "make_train_data('Tennis Court',TENNISCOURT_DIR)\n",
        "print(len(X))"
      ],
      "execution_count": 26,
      "outputs": [
        {
          "output_type": "stream",
          "text": [
            "100%|██████████| 100/100 [01:05<00:00,  1.87it/s]\n"
          ],
          "name": "stderr"
        },
        {
          "output_type": "stream",
          "text": [
            "100\n"
          ],
          "name": "stdout"
        },
        {
          "output_type": "stream",
          "text": [
            "100%|██████████| 100/100 [01:28<00:00,  1.84it/s]\n"
          ],
          "name": "stderr"
        },
        {
          "output_type": "stream",
          "text": [
            "200\n"
          ],
          "name": "stdout"
        },
        {
          "output_type": "stream",
          "text": [
            "100%|██████████| 100/100 [01:15<00:00,  1.48it/s]\n"
          ],
          "name": "stderr"
        },
        {
          "output_type": "stream",
          "text": [
            "300\n"
          ],
          "name": "stdout"
        },
        {
          "output_type": "stream",
          "text": [
            "100%|██████████| 100/100 [01:11<00:00,  1.68it/s]\n"
          ],
          "name": "stderr"
        },
        {
          "output_type": "stream",
          "text": [
            "400\n"
          ],
          "name": "stdout"
        },
        {
          "output_type": "stream",
          "text": [
            "100%|██████████| 100/100 [00:59<00:00,  1.16it/s]\n"
          ],
          "name": "stderr"
        },
        {
          "output_type": "stream",
          "text": [
            "500\n"
          ],
          "name": "stdout"
        },
        {
          "output_type": "stream",
          "text": [
            "100%|██████████| 100/100 [01:12<00:00,  1.22s/it]\n"
          ],
          "name": "stderr"
        },
        {
          "output_type": "stream",
          "text": [
            "600\n"
          ],
          "name": "stdout"
        },
        {
          "output_type": "stream",
          "text": [
            "100%|██████████| 100/100 [01:04<00:00,  1.85it/s]\n"
          ],
          "name": "stderr"
        },
        {
          "output_type": "stream",
          "text": [
            "700\n"
          ],
          "name": "stdout"
        },
        {
          "output_type": "stream",
          "text": [
            "100%|██████████| 100/100 [01:01<00:00,  1.72it/s]\n"
          ],
          "name": "stderr"
        },
        {
          "output_type": "stream",
          "text": [
            "800\n"
          ],
          "name": "stdout"
        },
        {
          "output_type": "stream",
          "text": [
            "100%|██████████| 100/100 [01:09<00:00,  1.06it/s]\n"
          ],
          "name": "stderr"
        },
        {
          "output_type": "stream",
          "text": [
            "900\n"
          ],
          "name": "stdout"
        },
        {
          "output_type": "stream",
          "text": [
            "100%|██████████| 100/100 [01:07<00:00,  1.18it/s]\n"
          ],
          "name": "stderr"
        },
        {
          "output_type": "stream",
          "text": [
            "1000\n"
          ],
          "name": "stdout"
        },
        {
          "output_type": "stream",
          "text": [
            "100%|██████████| 100/100 [01:10<00:00,  1.35it/s]\n"
          ],
          "name": "stderr"
        },
        {
          "output_type": "stream",
          "text": [
            "1100\n"
          ],
          "name": "stdout"
        },
        {
          "output_type": "stream",
          "text": [
            "100%|██████████| 100/100 [01:08<00:00,  1.43it/s]\n"
          ],
          "name": "stderr"
        },
        {
          "output_type": "stream",
          "text": [
            "1200\n"
          ],
          "name": "stdout"
        },
        {
          "output_type": "stream",
          "text": [
            "100%|██████████| 100/100 [01:03<00:00,  1.66it/s]\n"
          ],
          "name": "stderr"
        },
        {
          "output_type": "stream",
          "text": [
            "1300\n"
          ],
          "name": "stdout"
        },
        {
          "output_type": "stream",
          "text": [
            "100%|██████████| 100/100 [01:02<00:00,  1.88it/s]\n"
          ],
          "name": "stderr"
        },
        {
          "output_type": "stream",
          "text": [
            "1400\n"
          ],
          "name": "stdout"
        },
        {
          "output_type": "stream",
          "text": [
            "100%|██████████| 100/100 [01:01<00:00,  2.00it/s]\n"
          ],
          "name": "stderr"
        },
        {
          "output_type": "stream",
          "text": [
            "1500\n"
          ],
          "name": "stdout"
        },
        {
          "output_type": "stream",
          "text": [
            "100%|██████████| 100/100 [01:01<00:00,  2.01it/s]\n"
          ],
          "name": "stderr"
        },
        {
          "output_type": "stream",
          "text": [
            "1600\n"
          ],
          "name": "stdout"
        },
        {
          "output_type": "stream",
          "text": [
            "100%|██████████| 100/100 [00:59<00:00,  1.54it/s]\n"
          ],
          "name": "stderr"
        },
        {
          "output_type": "stream",
          "text": [
            "1700\n"
          ],
          "name": "stdout"
        },
        {
          "output_type": "stream",
          "text": [
            "100%|██████████| 100/100 [01:14<00:00,  1.14it/s]\n"
          ],
          "name": "stderr"
        },
        {
          "output_type": "stream",
          "text": [
            "1800\n"
          ],
          "name": "stdout"
        },
        {
          "output_type": "stream",
          "text": [
            "100%|██████████| 100/100 [01:02<00:00,  1.32it/s]\n"
          ],
          "name": "stderr"
        },
        {
          "output_type": "stream",
          "text": [
            "1900\n"
          ],
          "name": "stdout"
        },
        {
          "output_type": "stream",
          "text": [
            "100%|██████████| 100/100 [01:03<00:00,  1.57it/s]\n"
          ],
          "name": "stderr"
        },
        {
          "output_type": "stream",
          "text": [
            "2000\n"
          ],
          "name": "stdout"
        },
        {
          "output_type": "stream",
          "text": [
            "100%|██████████| 100/100 [01:06<00:00,  1.48it/s]"
          ],
          "name": "stderr"
        },
        {
          "output_type": "stream",
          "text": [
            "2100\n"
          ],
          "name": "stdout"
        },
        {
          "output_type": "stream",
          "text": [
            "\n"
          ],
          "name": "stderr"
        }
      ]
    },
    {
      "cell_type": "code",
      "metadata": {
        "id": "wgdbuNWQfE9k",
        "colab_type": "code",
        "colab": {
          "base_uri": "https://localhost:8080/",
          "height": 80
        },
        "outputId": "a245f1b7-5092-4e20-c90f-b7fe62b0c5eb"
      },
      "source": [
        "# Ignore  the warnings\n",
        "import warnings\n",
        "warnings.filterwarnings('always')\n",
        "warnings.filterwarnings('ignore')\n",
        "\n",
        "# data visualisation and manipulation\n",
        "import numpy as np\n",
        "import pandas as pd\n",
        "import matplotlib.pyplot as plt\n",
        "from matplotlib import style\n",
        "import seaborn as sns\n",
        " \n",
        "%matplotlib inline  \n",
        "style.use('fivethirtyeight')\n",
        "sns.set(style='whitegrid',color_codes=True)\n",
        "\n",
        "from sklearn.model_selection import train_test_split\n",
        "from sklearn.model_selection import KFold\n",
        "from sklearn.metrics import accuracy_score,precision_score,recall_score,confusion_matrix,roc_curve,roc_auc_score\n",
        "from sklearn.model_selection import GridSearchCV\n",
        "from sklearn.preprocessing import LabelEncoder\n",
        "\n",
        "from keras.preprocessing.image import ImageDataGenerator\n",
        "\n",
        "from keras import backend as K\n",
        "from keras.models import Sequential\n",
        "from keras.layers import Dense\n",
        "from keras.optimizers import Adam,SGD,Adagrad,Adadelta,RMSprop\n",
        "from keras.utils import to_categorical\n",
        "\n",
        "from keras.layers import Dropout, Flatten,Activation\n",
        "from keras.layers import Conv2D, MaxPooling2D, BatchNormalization\n",
        " \n",
        "import tensorflow as tf\n",
        "import random as rn\n",
        "\n",
        "import cv2                  \n",
        "import numpy as np  \n",
        "from tqdm import tqdm\n",
        "import os                   \n",
        "from random import shuffle  \n",
        "from zipfile import ZipFile\n",
        "from PIL import Image"
      ],
      "execution_count": 27,
      "outputs": [
        {
          "output_type": "stream",
          "text": [
            "Using TensorFlow backend.\n"
          ],
          "name": "stderr"
        },
        {
          "output_type": "display_data",
          "data": {
            "text/html": [
              "<p style=\"color: red;\">\n",
              "The default version of TensorFlow in Colab will soon switch to TensorFlow 2.x.<br>\n",
              "We recommend you <a href=\"https://www.tensorflow.org/guide/migrate\" target=\"_blank\">upgrade</a> now \n",
              "or ensure your notebook will continue to use TensorFlow 1.x via the <code>%tensorflow_version 1.x</code> magic:\n",
              "<a href=\"https://colab.research.google.com/notebooks/tensorflow_version.ipynb\" target=\"_blank\">more info</a>.</p>\n"
            ],
            "text/plain": [
              "<IPython.core.display.HTML object>"
            ]
          },
          "metadata": {
            "tags": []
          }
        }
      ]
    },
    {
      "cell_type": "code",
      "metadata": {
        "id": "KrVzFPvZcyFP",
        "colab_type": "code",
        "colab": {}
      },
      "source": [
        "le=LabelEncoder()\n",
        "Y=le.fit_transform(Z)\n",
        "Y=to_categorical(Y,21)\n",
        "X=np.array(X)\n",
        "X=X/255"
      ],
      "execution_count": 0,
      "outputs": []
    },
    {
      "cell_type": "code",
      "metadata": {
        "id": "gOYo4VSKdmUJ",
        "colab_type": "code",
        "colab": {}
      },
      "source": [
        "x_train,x_test,y_train,y_test=train_test_split(X,Y,test_size=0.25,random_state=42)\n",
        "np.random.seed(42)\n",
        "rn.seed(42)\n",
        "tf.set_random_seed(42)"
      ],
      "execution_count": 0,
      "outputs": []
    },
    {
      "cell_type": "code",
      "metadata": {
        "id": "mlc4YyRXdpUR",
        "colab_type": "code",
        "colab": {
          "base_uri": "https://localhost:8080/",
          "height": 173
        },
        "outputId": "450d53e7-41ad-4cb8-dcbc-a57a6f271dc9"
      },
      "source": [
        "model = Sequential()\n",
        "model.add(Conv2D(filters = 32, kernel_size = (5,5),padding = 'Same',activation ='relu', input_shape = (150,150,3)))\n",
        "model.add(MaxPooling2D(pool_size=(2,2)))\n",
        "\n",
        "\n",
        "model.add(Conv2D(filters = 64, kernel_size = (3,3),padding = 'Same',activation ='relu'))\n",
        "model.add(MaxPooling2D(pool_size=(2,2), strides=(2,2)))\n",
        " \n",
        "\n",
        "model.add(Conv2D(filters =96, kernel_size = (3,3),padding = 'Same',activation ='relu'))\n",
        "model.add(MaxPooling2D(pool_size=(2,2), strides=(2,2)))\n",
        "\n",
        "model.add(Conv2D(filters = 96, kernel_size = (3,3),padding = 'Same',activation ='relu'))\n",
        "model.add(MaxPooling2D(pool_size=(2,2), strides=(2,2)))\n",
        "\n",
        "model.add(Flatten())\n",
        "model.add(Dense(512))\n",
        "model.add(Activation('relu'))\n",
        "model.add(Dense(21, activation = \"softmax\"))"
      ],
      "execution_count": 30,
      "outputs": [
        {
          "output_type": "stream",
          "text": [
            "WARNING:tensorflow:From /usr/local/lib/python3.6/dist-packages/keras/backend/tensorflow_backend.py:66: The name tf.get_default_graph is deprecated. Please use tf.compat.v1.get_default_graph instead.\n",
            "\n",
            "WARNING:tensorflow:From /usr/local/lib/python3.6/dist-packages/keras/backend/tensorflow_backend.py:541: The name tf.placeholder is deprecated. Please use tf.compat.v1.placeholder instead.\n",
            "\n",
            "WARNING:tensorflow:From /usr/local/lib/python3.6/dist-packages/keras/backend/tensorflow_backend.py:4432: The name tf.random_uniform is deprecated. Please use tf.random.uniform instead.\n",
            "\n",
            "WARNING:tensorflow:From /usr/local/lib/python3.6/dist-packages/keras/backend/tensorflow_backend.py:4267: The name tf.nn.max_pool is deprecated. Please use tf.nn.max_pool2d instead.\n",
            "\n"
          ],
          "name": "stdout"
        }
      ]
    },
    {
      "cell_type": "code",
      "metadata": {
        "id": "4a6ySEVkdrlQ",
        "colab_type": "code",
        "colab": {}
      },
      "source": [
        "batch_size=21\n",
        "epochs=50\n",
        "\n",
        "from keras.callbacks import ReduceLROnPlateau\n",
        "red_lr= ReduceLROnPlateau(monitor='val_acc',patience=3,verbose=1,factor=0.1)"
      ],
      "execution_count": 0,
      "outputs": []
    },
    {
      "cell_type": "code",
      "metadata": {
        "id": "mzvIV2eVdtas",
        "colab_type": "code",
        "colab": {}
      },
      "source": [
        "datagen = ImageDataGenerator(\n",
        "        featurewise_center=False,  \n",
        "        samplewise_center=False,  \n",
        "        featurewise_std_normalization=False, \n",
        "        samplewise_std_normalization=False,  \n",
        "        zca_whitening=False,  \n",
        "        rotation_range=10,  \n",
        "        zoom_range = 0.1, \n",
        "        width_shift_range=0.2,  \n",
        "        height_shift_range=0.2,  \n",
        "        horizontal_flip=True,  \n",
        "        vertical_flip=False)  \n",
        "\n",
        "\n",
        "datagen.fit(x_train)"
      ],
      "execution_count": 0,
      "outputs": []
    },
    {
      "cell_type": "code",
      "metadata": {
        "id": "afN6XAwxdvii",
        "colab_type": "code",
        "colab": {
          "base_uri": "https://localhost:8080/",
          "height": 156
        },
        "outputId": "77f379e0-54d5-47fd-a1e2-68334607ba43"
      },
      "source": [
        "model.compile(optimizer=Adam(lr=0.001),loss='binary_crossentropy',metrics=['accuracy'])"
      ],
      "execution_count": 33,
      "outputs": [
        {
          "output_type": "stream",
          "text": [
            "WARNING:tensorflow:From /usr/local/lib/python3.6/dist-packages/keras/optimizers.py:793: The name tf.train.Optimizer is deprecated. Please use tf.compat.v1.train.Optimizer instead.\n",
            "\n",
            "WARNING:tensorflow:From /usr/local/lib/python3.6/dist-packages/keras/backend/tensorflow_backend.py:3657: The name tf.log is deprecated. Please use tf.math.log instead.\n",
            "\n",
            "WARNING:tensorflow:From /usr/local/lib/python3.6/dist-packages/tensorflow_core/python/ops/nn_impl.py:183: where (from tensorflow.python.ops.array_ops) is deprecated and will be removed in a future version.\n",
            "Instructions for updating:\n",
            "Use tf.where in 2.0, which has the same broadcast rule as np.where\n"
          ],
          "name": "stdout"
        }
      ]
    },
    {
      "cell_type": "code",
      "metadata": {
        "id": "l1A8gaR8dxWx",
        "colab_type": "code",
        "colab": {
          "base_uri": "https://localhost:8080/",
          "height": 561
        },
        "outputId": "f028e0c6-09c0-4ea1-bf08-88ef9a1ce79c"
      },
      "source": [
        "model.summary()"
      ],
      "execution_count": 34,
      "outputs": [
        {
          "output_type": "stream",
          "text": [
            "Model: \"sequential_1\"\n",
            "_________________________________________________________________\n",
            "Layer (type)                 Output Shape              Param #   \n",
            "=================================================================\n",
            "conv2d_1 (Conv2D)            (None, 150, 150, 32)      2432      \n",
            "_________________________________________________________________\n",
            "max_pooling2d_1 (MaxPooling2 (None, 75, 75, 32)        0         \n",
            "_________________________________________________________________\n",
            "conv2d_2 (Conv2D)            (None, 75, 75, 64)        18496     \n",
            "_________________________________________________________________\n",
            "max_pooling2d_2 (MaxPooling2 (None, 37, 37, 64)        0         \n",
            "_________________________________________________________________\n",
            "conv2d_3 (Conv2D)            (None, 37, 37, 96)        55392     \n",
            "_________________________________________________________________\n",
            "max_pooling2d_3 (MaxPooling2 (None, 18, 18, 96)        0         \n",
            "_________________________________________________________________\n",
            "conv2d_4 (Conv2D)            (None, 18, 18, 96)        83040     \n",
            "_________________________________________________________________\n",
            "max_pooling2d_4 (MaxPooling2 (None, 9, 9, 96)          0         \n",
            "_________________________________________________________________\n",
            "flatten_1 (Flatten)          (None, 7776)              0         \n",
            "_________________________________________________________________\n",
            "dense_1 (Dense)              (None, 512)               3981824   \n",
            "_________________________________________________________________\n",
            "activation_1 (Activation)    (None, 512)               0         \n",
            "_________________________________________________________________\n",
            "dense_2 (Dense)              (None, 21)                10773     \n",
            "=================================================================\n",
            "Total params: 4,151,957\n",
            "Trainable params: 4,151,957\n",
            "Non-trainable params: 0\n",
            "_________________________________________________________________\n"
          ],
          "name": "stdout"
        }
      ]
    },
    {
      "cell_type": "code",
      "metadata": {
        "id": "Dm8kueiddy3f",
        "colab_type": "code",
        "colab": {
          "base_uri": "https://localhost:8080/",
          "height": 1000
        },
        "outputId": "8eed924d-8087-4e43-ad09-4c2130a45079"
      },
      "source": [
        "History = model.fit_generator(datagen.flow(x_train,y_train, batch_size=batch_size),\n",
        "                              epochs = epochs, validation_data = (x_test,y_test), \n",
        "                              verbose = 1, steps_per_epoch=x_train.shape[0] // batch_size)"
      ],
      "execution_count": 35,
      "outputs": [
        {
          "output_type": "stream",
          "text": [
            "WARNING:tensorflow:From /usr/local/lib/python3.6/dist-packages/keras/backend/tensorflow_backend.py:1033: The name tf.assign_add is deprecated. Please use tf.compat.v1.assign_add instead.\n",
            "\n",
            "WARNING:tensorflow:From /usr/local/lib/python3.6/dist-packages/keras/backend/tensorflow_backend.py:1020: The name tf.assign is deprecated. Please use tf.compat.v1.assign instead.\n",
            "\n",
            "WARNING:tensorflow:From /usr/local/lib/python3.6/dist-packages/keras/backend/tensorflow_backend.py:3005: The name tf.Session is deprecated. Please use tf.compat.v1.Session instead.\n",
            "\n",
            "Epoch 1/50\n",
            "WARNING:tensorflow:From /usr/local/lib/python3.6/dist-packages/keras/backend/tensorflow_backend.py:190: The name tf.get_default_session is deprecated. Please use tf.compat.v1.get_default_session instead.\n",
            "\n",
            "WARNING:tensorflow:From /usr/local/lib/python3.6/dist-packages/keras/backend/tensorflow_backend.py:197: The name tf.ConfigProto is deprecated. Please use tf.compat.v1.ConfigProto instead.\n",
            "\n",
            "WARNING:tensorflow:From /usr/local/lib/python3.6/dist-packages/keras/backend/tensorflow_backend.py:207: The name tf.global_variables is deprecated. Please use tf.compat.v1.global_variables instead.\n",
            "\n",
            "WARNING:tensorflow:From /usr/local/lib/python3.6/dist-packages/keras/backend/tensorflow_backend.py:216: The name tf.is_variable_initialized is deprecated. Please use tf.compat.v1.is_variable_initialized instead.\n",
            "\n",
            "WARNING:tensorflow:From /usr/local/lib/python3.6/dist-packages/keras/backend/tensorflow_backend.py:223: The name tf.variables_initializer is deprecated. Please use tf.compat.v1.variables_initializer instead.\n",
            "\n",
            "75/75 [==============================] - 23s 304ms/step - loss: 0.1906 - acc: 0.9523 - val_loss: 0.1822 - val_acc: 0.9524\n",
            "Epoch 2/50\n",
            "75/75 [==============================] - 8s 101ms/step - loss: 0.1748 - acc: 0.9525 - val_loss: 0.1608 - val_acc: 0.9526\n",
            "Epoch 3/50\n",
            "75/75 [==============================] - 8s 106ms/step - loss: 0.1530 - acc: 0.9535 - val_loss: 0.1403 - val_acc: 0.9554\n",
            "Epoch 4/50\n",
            "75/75 [==============================] - 8s 106ms/step - loss: 0.1381 - acc: 0.9564 - val_loss: 0.1215 - val_acc: 0.9586\n",
            "Epoch 5/50\n",
            "75/75 [==============================] - 8s 104ms/step - loss: 0.1220 - acc: 0.9596 - val_loss: 0.1233 - val_acc: 0.9586\n",
            "Epoch 6/50\n",
            "75/75 [==============================] - 8s 104ms/step - loss: 0.1177 - acc: 0.9600 - val_loss: 0.1093 - val_acc: 0.9629\n",
            "Epoch 7/50\n",
            "75/75 [==============================] - 8s 102ms/step - loss: 0.1068 - acc: 0.9634 - val_loss: 0.0965 - val_acc: 0.9671\n",
            "Epoch 8/50\n",
            "75/75 [==============================] - 8s 103ms/step - loss: 0.0991 - acc: 0.9644 - val_loss: 0.0853 - val_acc: 0.9682\n",
            "Epoch 9/50\n",
            "75/75 [==============================] - 8s 107ms/step - loss: 0.0919 - acc: 0.9669 - val_loss: 0.0754 - val_acc: 0.9716\n",
            "Epoch 10/50\n",
            "75/75 [==============================] - 8s 103ms/step - loss: 0.0833 - acc: 0.9689 - val_loss: 0.0770 - val_acc: 0.9720\n",
            "Epoch 11/50\n",
            "75/75 [==============================] - 8s 104ms/step - loss: 0.0838 - acc: 0.9689 - val_loss: 0.0662 - val_acc: 0.9730\n",
            "Epoch 12/50\n",
            "75/75 [==============================] - 8s 104ms/step - loss: 0.0784 - acc: 0.9707 - val_loss: 0.0672 - val_acc: 0.9752\n",
            "Epoch 13/50\n",
            "75/75 [==============================] - 8s 103ms/step - loss: 0.0680 - acc: 0.9741 - val_loss: 0.0625 - val_acc: 0.9765\n",
            "Epoch 14/50\n",
            "75/75 [==============================] - 8s 104ms/step - loss: 0.0645 - acc: 0.9762 - val_loss: 0.0615 - val_acc: 0.9779\n",
            "Epoch 15/50\n",
            "75/75 [==============================] - 8s 104ms/step - loss: 0.0667 - acc: 0.9746 - val_loss: 0.0666 - val_acc: 0.9733\n",
            "Epoch 16/50\n",
            "75/75 [==============================] - 8s 107ms/step - loss: 0.0615 - acc: 0.9771 - val_loss: 0.0570 - val_acc: 0.9780\n",
            "Epoch 17/50\n",
            "75/75 [==============================] - 8s 103ms/step - loss: 0.0536 - acc: 0.9792 - val_loss: 0.0643 - val_acc: 0.9758\n",
            "Epoch 18/50\n",
            "75/75 [==============================] - 8s 108ms/step - loss: 0.0557 - acc: 0.9791 - val_loss: 0.0528 - val_acc: 0.9804\n",
            "Epoch 19/50\n",
            "75/75 [==============================] - 8s 104ms/step - loss: 0.0515 - acc: 0.9807 - val_loss: 0.0505 - val_acc: 0.9808\n",
            "Epoch 20/50\n",
            "75/75 [==============================] - 8s 106ms/step - loss: 0.0489 - acc: 0.9821 - val_loss: 0.0526 - val_acc: 0.9804\n",
            "Epoch 21/50\n",
            "75/75 [==============================] - 8s 103ms/step - loss: 0.0495 - acc: 0.9811 - val_loss: 0.0492 - val_acc: 0.9820\n",
            "Epoch 22/50\n",
            "75/75 [==============================] - 8s 105ms/step - loss: 0.0470 - acc: 0.9821 - val_loss: 0.0495 - val_acc: 0.9817\n",
            "Epoch 23/50\n",
            "75/75 [==============================] - 8s 103ms/step - loss: 0.0376 - acc: 0.9855 - val_loss: 0.0426 - val_acc: 0.9838\n",
            "Epoch 24/50\n",
            "75/75 [==============================] - 8s 109ms/step - loss: 0.0422 - acc: 0.9839 - val_loss: 0.0484 - val_acc: 0.9811\n",
            "Epoch 25/50\n",
            "75/75 [==============================] - 8s 105ms/step - loss: 0.0374 - acc: 0.9862 - val_loss: 0.0451 - val_acc: 0.9839\n",
            "Epoch 26/50\n",
            "75/75 [==============================] - 8s 105ms/step - loss: 0.0398 - acc: 0.9850 - val_loss: 0.0437 - val_acc: 0.9832\n",
            "Epoch 27/50\n",
            "75/75 [==============================] - 8s 105ms/step - loss: 0.0320 - acc: 0.9884 - val_loss: 0.0473 - val_acc: 0.9834\n",
            "Epoch 28/50\n",
            "75/75 [==============================] - 8s 104ms/step - loss: 0.0375 - acc: 0.9868 - val_loss: 0.0482 - val_acc: 0.9828\n",
            "Epoch 29/50\n",
            "75/75 [==============================] - 8s 103ms/step - loss: 0.0338 - acc: 0.9868 - val_loss: 0.0410 - val_acc: 0.9848\n",
            "Epoch 30/50\n",
            "75/75 [==============================] - 8s 104ms/step - loss: 0.0373 - acc: 0.9860 - val_loss: 0.0691 - val_acc: 0.9761\n",
            "Epoch 31/50\n",
            "75/75 [==============================] - 8s 103ms/step - loss: 0.0348 - acc: 0.9870 - val_loss: 0.0416 - val_acc: 0.9839\n",
            "Epoch 32/50\n",
            "75/75 [==============================] - 8s 107ms/step - loss: 0.0286 - acc: 0.9898 - val_loss: 0.0436 - val_acc: 0.9859\n",
            "Epoch 33/50\n",
            "75/75 [==============================] - 8s 102ms/step - loss: 0.0277 - acc: 0.9894 - val_loss: 0.0526 - val_acc: 0.9807\n",
            "Epoch 34/50\n",
            "75/75 [==============================] - 8s 105ms/step - loss: 0.0338 - acc: 0.9868 - val_loss: 0.0494 - val_acc: 0.9836\n",
            "Epoch 35/50\n",
            "75/75 [==============================] - 8s 106ms/step - loss: 0.0301 - acc: 0.9887 - val_loss: 0.0371 - val_acc: 0.9879\n",
            "Epoch 36/50\n",
            "75/75 [==============================] - 8s 105ms/step - loss: 0.0269 - acc: 0.9904 - val_loss: 0.0452 - val_acc: 0.9839\n",
            "Epoch 37/50\n",
            "75/75 [==============================] - 8s 104ms/step - loss: 0.0260 - acc: 0.9897 - val_loss: 0.0375 - val_acc: 0.9878\n",
            "Epoch 38/50\n",
            "75/75 [==============================] - 8s 104ms/step - loss: 0.0254 - acc: 0.9902 - val_loss: 0.0405 - val_acc: 0.9850\n",
            "Epoch 39/50\n",
            "75/75 [==============================] - 8s 106ms/step - loss: 0.0291 - acc: 0.9898 - val_loss: 0.0435 - val_acc: 0.9838\n",
            "Epoch 40/50\n",
            "75/75 [==============================] - 8s 104ms/step - loss: 0.0240 - acc: 0.9908 - val_loss: 0.0421 - val_acc: 0.9851\n",
            "Epoch 41/50\n",
            "75/75 [==============================] - 8s 106ms/step - loss: 0.0240 - acc: 0.9917 - val_loss: 0.0380 - val_acc: 0.9872\n",
            "Epoch 42/50\n",
            "75/75 [==============================] - 8s 104ms/step - loss: 0.0261 - acc: 0.9909 - val_loss: 0.0386 - val_acc: 0.9855\n",
            "Epoch 43/50\n",
            "75/75 [==============================] - 8s 107ms/step - loss: 0.0262 - acc: 0.9900 - val_loss: 0.0407 - val_acc: 0.9841\n",
            "Epoch 44/50\n",
            "75/75 [==============================] - 8s 105ms/step - loss: 0.0196 - acc: 0.9925 - val_loss: 0.0401 - val_acc: 0.9878\n",
            "Epoch 45/50\n",
            "75/75 [==============================] - 8s 104ms/step - loss: 0.0232 - acc: 0.9912 - val_loss: 0.0342 - val_acc: 0.9879\n",
            "Epoch 46/50\n",
            "75/75 [==============================] - 8s 105ms/step - loss: 0.0218 - acc: 0.9920 - val_loss: 0.0418 - val_acc: 0.9871\n",
            "Epoch 47/50\n",
            "75/75 [==============================] - 8s 108ms/step - loss: 0.0264 - acc: 0.9900 - val_loss: 0.0379 - val_acc: 0.9861\n",
            "Epoch 48/50\n",
            "75/75 [==============================] - 8s 104ms/step - loss: 0.0193 - acc: 0.9930 - val_loss: 0.0340 - val_acc: 0.9894\n",
            "Epoch 49/50\n",
            "75/75 [==============================] - 8s 103ms/step - loss: 0.0216 - acc: 0.9923 - val_loss: 0.0395 - val_acc: 0.9866\n",
            "Epoch 50/50\n",
            "75/75 [==============================] - 8s 104ms/step - loss: 0.0189 - acc: 0.9933 - val_loss: 0.0362 - val_acc: 0.9878\n"
          ],
          "name": "stdout"
        }
      ]
    },
    {
      "cell_type": "code",
      "metadata": {
        "id": "zSQ7dBWSd21u",
        "colab_type": "code",
        "colab": {
          "base_uri": "https://localhost:8080/",
          "height": 317
        },
        "outputId": "7f326dc2-1f02-4e0b-db3d-3174a0785684"
      },
      "source": [
        "plt.plot(History.history['loss'])\n",
        "plt.plot(History.history['val_loss'])\n",
        "plt.title('Model Loss')\n",
        "plt.ylabel('Loss')\n",
        "plt.xlabel('Epochs')\n",
        "plt.legend(['train', 'test'])\n",
        "plt.show()"
      ],
      "execution_count": 36,
      "outputs": [
        {
          "output_type": "display_data",
          "data": {
            "image/png": "[encoded data removed]",
            "text/plain": [
              "<Figure size 432x288 with 1 Axes>"
            ]
          },
          "metadata": {
            "tags": []
          }
        }
      ]
    },
    {
      "cell_type": "code",
      "metadata": {
        "id": "ebMyXRXZd5iN",
        "colab_type": "code",
        "colab": {
          "base_uri": "https://localhost:8080/",
          "height": 317
        },
        "outputId": "ecfcb93b-065c-43c7-9078-a1dcefa8307a"
      },
      "source": [
        "plt.plot(History.history['acc'])\n",
        "plt.plot(History.history['val_acc'])\n",
        "plt.title('Model Accuracy')\n",
        "plt.ylabel('Accuracy')\n",
        "plt.xlabel('Epochs')\n",
        "plt.legend(['train', 'test'])\n",
        "plt.show()"
      ],
      "execution_count": 37,
      "outputs": [
        {
          "output_type": "display_data",
          "data": {
            "image/png": "[encoded data removed]",
            "text/plain": [
              "<Figure size 432x288 with 1 Axes>"
            ]
          },
          "metadata": {
            "tags": []
          }
        }
      ]
    },
    {
      "cell_type": "code",
      "metadata": {
        "id": "4B3YagiId-_q",
        "colab_type": "code",
        "colab": {
          "base_uri": "https://localhost:8080/",
          "height": 550
        },
        "outputId": "376c89fd-b801-448c-c5fd-ebc65f55a461"
      },
      "source": [
        "import seaborn as sns\n",
        "Y_pred = model.predict(x_test)\n",
        "\n",
        "Y_pred_classes = np.argmax(Y_pred,axis = 1) \n",
        "\n",
        "Y_true = np.argmax(y_test,axis = 1) \n",
        "\n",
        "confusion_mtx = confusion_matrix(Y_true, Y_pred_classes) \n",
        "\n",
        "f,ax = plt.subplots(figsize=(8, 8))\n",
        "sns.heatmap(confusion_mtx, annot=True, linewidths=0.01,cmap=\"Greens\",linecolor=\"gray\", fmt= '.1f',ax=ax)\n",
        "plt.xlabel(\"Predicted Label\")\n",
        "plt.ylabel(\"True Label\")\n",
        "plt.title(\"Confusion Matrix\")\n",
        "plt.show()"
      ],
      "execution_count": 38,
      "outputs": [
        {
          "output_type": "display_data",
          "data": {
            "image/png": "[encoded data removed]",
            "text/plain": [
              "<Figure size 576x576 with 2 Axes>"
            ]
          },
          "metadata": {
            "tags": []
          }
        }
      ]
    }
  ]
}