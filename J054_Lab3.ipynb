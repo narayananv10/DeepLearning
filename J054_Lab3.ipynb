{
  "nbformat": 4,
  "nbformat_minor": 0,
  "metadata": {
    "colab": {
      "name": "J054_Lab3.ipynb",
      "provenance": [],
      "collapsed_sections": [],
      "include_colab_link": true
    },
    "kernelspec": {
      "name": "python3",
      "display_name": "Python 3"
    },
    "accelerator": "GPU"
  },
  "cells": [
    {
      "cell_type": "markdown",
      "metadata": {
        "id": "view-in-github",
        "colab_type": "text"
      },
      "source": [
        "<a href=\"https://colab.research.google.com/github/narayananv10/DeepLearning/blob/master/J054_Lab3.ipynb\" target=\"_parent\"><img src=\"https://colab.research.google.com/assets/colab-badge.svg\" alt=\"Open In Colab\"/></a>"
      ]
    },
    {
      "cell_type": "markdown",
      "metadata": {
        "id": "q2MjJI_kBDYy",
        "colab_type": "text"
      },
      "source": [
        "#Usage of optimizers\n",
        "\n",
        "An optimizer is one of the two arguments required for compiling a Keras model:\n",
        "\n",
        "The optimizer is provided in model compilation step as shown below."
      ]
    },
    {
      "cell_type": "code",
      "metadata": {
        "id": "VZZLzy1xA0TB",
        "colab_type": "code",
        "colab": {}
      },
      "source": [
        "import keras\n",
        "from keras import models\n",
        "from keras.layers import Dense, Dropout\n",
        "from keras.utils import to_categorical\n",
        "from keras.datasets import mnist\n",
        "from keras.utils.vis_utils import model_to_dot\n",
        "from IPython.display import SVG\n",
        "import matplotlib.pyplot as plt\n",
        "\n",
        "\n",
        "NUM_ROWS = 28\n",
        "NUM_COLS = 28\n",
        "NUM_CLASSES = 10\n",
        "BATCH_SIZE = 128\n",
        "EPOCHS = 10\n",
        "\n",
        "# Load data\n",
        "(X_train, y_train), (X_test, y_test) = mnist.load_data()\n",
        "\n",
        "\n",
        "\n",
        "# Reshape data\n",
        "X_train = X_train.reshape((X_train.shape[0], NUM_ROWS * NUM_COLS))\n",
        "X_train = X_train.astype('float32') / 255\n",
        "X_test = X_test.reshape((X_test.shape[0], NUM_ROWS * NUM_COLS))\n",
        "X_test = X_test.astype('float32') / 255\n",
        "\n",
        "# Categorically encode labels\n",
        "y_train = to_categorical(y_train, NUM_CLASSES)\n",
        "y_test = to_categorical(y_test, NUM_CLASSES)\n",
        "\n",
        "\n",
        "# Build neural network\n",
        "model = models.Sequential()\n",
        "model.add(Dense(512, activation='relu', input_shape=(NUM_ROWS * NUM_COLS,)))\n",
        "model.add(Dense(256, activation='relu'))\n",
        "model.add(Dense(10, activation='softmax'))\n",
        "\n",
        "# Compile model\n",
        "model.compile(optimizer='rmsprop',\n",
        "              loss='categorical_crossentropy',\n",
        "              metrics=['accuracy'])\n",
        "\n",
        "# Train model\n",
        "model.fit(X_train, y_train,\n",
        "          batch_size=BATCH_SIZE,\n",
        "          epochs=EPOCHS,\n",
        "          verbose=1,\n",
        "          validation_data=(X_test, y_test))\n",
        "\n",
        "score = model.evaluate(X_test, y_test, verbose=0)\n",
        "print('Test loss:', score[0])\n",
        "print('Test accuracy:', score[1])"
      ],
      "execution_count": 0,
      "outputs": []
    },
    {
      "cell_type": "markdown",
      "metadata": {
        "id": "ljnd23JDCKKT",
        "colab_type": "text"
      },
      "source": [
        "#Parameters common to all Keras optimizers\n",
        "\n",
        "The parameters clipnorm and clipvalue can be used with all optimizers to control gradient clipping:"
      ]
    },
    {
      "cell_type": "markdown",
      "metadata": {
        "id": "hG0HTz9lCY5s",
        "colab_type": "text"
      },
      "source": [
        "#SGD\n",
        "\n",
        "keras.optimizers.SGD(learning_rate=0.01, momentum=0.0, nesterov=False)\n",
        "\n",
        "##Stochastic gradient descent optimizer.\n",
        "\n",
        "Includes support for momentum, learning rate decay, and Nesterov momentum.\n",
        "\n",
        "##Arguments\n",
        "\n",
        "1. learning_rate: float >= 0. Learning rate.\n",
        "2. momentum: float >= 0. Parameter that accelerates SGD in the relevant direction and dampens oscillations.\n",
        "3. nesterov: boolean. Whether to apply Nesterov momentum."
      ]
    },
    {
      "cell_type": "code",
      "metadata": {
        "id": "88yumcFOCVkM",
        "colab_type": "code",
        "colab": {}
      },
      "source": [
        "from keras import optimizers\n",
        "sgd=keras.optimizers.SGD(lr=0.01, momentum=0.0, nesterov=False)"
      ],
      "execution_count": 0,
      "outputs": []
    },
    {
      "cell_type": "code",
      "metadata": {
        "id": "-RdoZtUVCnde",
        "colab_type": "code",
        "colab": {}
      },
      "source": [
        "# Compile model using above optimizer\n",
        "model.compile(optimizer=sgd,\n",
        "              loss='categorical_crossentropy',\n",
        "              metrics=['accuracy'])\n",
        "\n",
        "# Train model\n",
        "model.fit(X_train, y_train,\n",
        "          batch_size=BATCH_SIZE,\n",
        "          epochs=EPOCHS,\n",
        "          verbose=1,\n",
        "          validation_data=(X_test, y_test))\n",
        "\n",
        "score = model.evaluate(X_test, y_test, verbose=0)\n",
        "print('Test loss:', score[0])\n",
        "print('Test accuracy:', score[1])"
      ],
      "execution_count": 0,
      "outputs": []
    },
    {
      "cell_type": "markdown",
      "metadata": {
        "id": "aO8vbsw7ENqL",
        "colab_type": "text"
      },
      "source": [
        "#RMSprop\n",
        "\n",
        "keras.optimizers.RMSprop(learning_rate=0.001, rho=0.9)\n",
        "\n",
        "##RMSProp optimizer.\n",
        "\n",
        "It is recommended to leave the parameters of this optimizer at their default values (except the learning rate, which can be freely tuned).\n",
        "\n",
        "Arguments\n",
        "\n",
        "1. learning_rate: float >= 0. Learning rate.\n",
        "2. rho: float >= 0."
      ]
    },
    {
      "cell_type": "code",
      "metadata": {
        "id": "IR-QUUrDEj0o",
        "colab_type": "code",
        "colab": {}
      },
      "source": [
        "from keras import optimizers\n",
        "rms=keras.optimizers.RMSprop(lr=0.001, rho=0.9)"
      ],
      "execution_count": 0,
      "outputs": []
    },
    {
      "cell_type": "code",
      "metadata": {
        "id": "Lk6hNp3DEn-K",
        "colab_type": "code",
        "colab": {}
      },
      "source": [
        "# Compile model using above optimizer\n",
        "model.compile(optimizer=rms,\n",
        "              loss='categorical_crossentropy',\n",
        "              metrics=['accuracy'])\n",
        "\n",
        "# Train model\n",
        "model.fit(X_train, y_train,\n",
        "          batch_size=BATCH_SIZE,\n",
        "          epochs=EPOCHS,\n",
        "          verbose=1,\n",
        "          validation_data=(X_test, y_test))\n",
        "\n",
        "score = model.evaluate(X_test, y_test, verbose=0)\n",
        "print('Test loss:', score[0])\n",
        "print('Test accuracy:', score[1])"
      ],
      "execution_count": 0,
      "outputs": []
    },
    {
      "cell_type": "markdown",
      "metadata": {
        "id": "qx-VvwfIEy5w",
        "colab_type": "text"
      },
      "source": [
        "#Adagrad\n",
        "\n",
        "keras.optimizers.Adagrad(learning_rate=0.01)\n",
        "\n",
        "##Adagrad optimizer.\n",
        "\n",
        "Adagrad is an optimizer with parameter-specific learning rates, which are adapted relative to how frequently a parameter gets updated during training. The more updates a parameter receives, the smaller the learning rate.\n",
        "\n",
        "It is recommended to leave the parameters of this optimizer at their default values.\n",
        "\n",
        "##Arguments\n",
        "\n",
        "1. learning_rate: float >= 0. Initial learning rate."
      ]
    },
    {
      "cell_type": "code",
      "metadata": {
        "id": "-WjeweM7E5rL",
        "colab_type": "code",
        "colab": {}
      },
      "source": [
        "from keras import optimizers\n",
        "ada=keras.optimizers.Adagrad(lr=0.01)\n"
      ],
      "execution_count": 0,
      "outputs": []
    },
    {
      "cell_type": "code",
      "metadata": {
        "id": "vIHdU-GnE6or",
        "colab_type": "code",
        "colab": {}
      },
      "source": [
        "# Compile model using above optimizer\n",
        "model.compile(optimizer=ada,\n",
        "              loss='categorical_crossentropy',\n",
        "              metrics=['accuracy'])\n",
        "\n",
        "# Train model\n",
        "model.fit(X_train, y_train,\n",
        "          batch_size=BATCH_SIZE,\n",
        "          epochs=EPOCHS,\n",
        "          verbose=1,\n",
        "          validation_data=(X_test, y_test))\n",
        "\n",
        "score = model.evaluate(X_test, y_test, verbose=0)\n",
        "print('Test loss:', score[0])\n",
        "print('Test accuracy:', score[1])"
      ],
      "execution_count": 0,
      "outputs": []
    },
    {
      "cell_type": "markdown",
      "metadata": {
        "id": "i8ubIHPIFLEA",
        "colab_type": "text"
      },
      "source": [
        "#Adadelta\n",
        "\n",
        "keras.optimizers.Adadelta(learning_rate=1.0, rho=0.95)\n",
        "\n",
        "##Adadelta optimizer.\n",
        "\n",
        "Adadelta is a more robust extension of Adagrad that adapts learning rates based on a moving window of gradient updates, instead of accumulating all past gradients. This way, Adadelta continues learning even when many updates have been done. Compared to Adagrad, in the original version of Adadelta you don't have to set an initial learning rate. In this version, initial learning rate and decay factor can be set, as in most other Keras optimizers.\n",
        "\n",
        "It is recommended to leave the parameters of this optimizer at their default values.\n",
        "\n",
        "##Arguments\n",
        "\n",
        "1. learning_rate: float >= 0. Initial learning rate, defaults to 1. It is recommended to leave it at the default value.\n",
        "2. rho: float >= 0. Adadelta decay factor, corresponding to fraction of gradient to keep at each time step."
      ]
    },
    {
      "cell_type": "code",
      "metadata": {
        "id": "qhgBFpumFLWL",
        "colab_type": "code",
        "colab": {}
      },
      "source": [
        "from keras import optimizers\n",
        "adelta=keras.optimizers.Adadelta(lr=1.0, rho=0.95)\n",
        "\n"
      ],
      "execution_count": 0,
      "outputs": []
    },
    {
      "cell_type": "code",
      "metadata": {
        "id": "l6FHDYGzFRP3",
        "colab_type": "code",
        "colab": {}
      },
      "source": [
        "# Compile model using above optimizer\n",
        "model.compile(optimizer=adelta,\n",
        "              loss='categorical_crossentropy',\n",
        "              metrics=['accuracy'])\n",
        "\n",
        "# Train model\n",
        "model.fit(X_train, y_train,\n",
        "          batch_size=BATCH_SIZE,\n",
        "          epochs=EPOCHS,\n",
        "          verbose=1,\n",
        "          validation_data=(X_test, y_test))\n",
        "\n",
        "score = model.evaluate(X_test, y_test, verbose=0)\n",
        "print('Test loss:', score[0])\n",
        "print('Test accuracy:', score[1])"
      ],
      "execution_count": 0,
      "outputs": []
    },
    {
      "cell_type": "markdown",
      "metadata": {
        "id": "p9L-CMG6Fdfh",
        "colab_type": "text"
      },
      "source": [
        "#Adam\n",
        "\n",
        "keras.optimizers.Adam(learning_rate=0.001, beta_1=0.9, beta_2=0.999, amsgrad=False)\n",
        "\n",
        "##Adam optimizer.\n",
        "\n",
        "Default parameters follow those provided in the original paper.\n",
        "\n",
        "##Arguments\n",
        "\n",
        "1. learning_rate: float >= 0. Learning rate.\n",
        "2. beta_1: float, 0 < beta < 1. Generally close to 1.\n",
        "3. beta_2: float, 0 < beta < 1. Generally close to 1.\n",
        "4. amsgrad: boolean. Whether to apply the AMSGrad variant of this algorithm from the paper \"On the Convergence of Adam and Beyond\"."
      ]
    },
    {
      "cell_type": "code",
      "metadata": {
        "id": "zJMOPew6FqqY",
        "colab_type": "code",
        "colab": {}
      },
      "source": [
        "from keras import optimizers\n",
        "adam=keras.optimizers.Adam(lr=0.001, beta_1=0.9, beta_2=0.999, amsgrad=False)"
      ],
      "execution_count": 0,
      "outputs": []
    },
    {
      "cell_type": "code",
      "metadata": {
        "id": "VPXdzhFZFq2z",
        "colab_type": "code",
        "colab": {}
      },
      "source": [
        "# Compile model using above optimizer\n",
        "model.compile(optimizer=adam,\n",
        "              loss='categorical_crossentropy',\n",
        "              metrics=['accuracy'])\n",
        "\n",
        "# Train model\n",
        "model.fit(X_train, y_train,\n",
        "          batch_size=BATCH_SIZE,\n",
        "          epochs=EPOCHS,\n",
        "          verbose=1,\n",
        "          validation_data=(X_test, y_test))\n",
        "\n",
        "score = model.evaluate(X_test, y_test, verbose=0)\n",
        "print('Test loss:', score[0])\n",
        "print('Test accuracy:', score[1])"
      ],
      "execution_count": 0,
      "outputs": []
    },
    {
      "cell_type": "markdown",
      "metadata": {
        "id": "cY_OJBuuF5Cx",
        "colab_type": "text"
      },
      "source": [
        "#Adamax\n",
        "\n",
        "keras.optimizers.Adamax(learning_rate=0.002, beta_1=0.9, beta_2=0.999)\n",
        "\n",
        "Adamax optimizer from Adam paper's Section 7.\n",
        "\n",
        "It is a variant of Adam based on the infinity norm. Default parameters follow those provided in the paper.\n",
        "\n",
        "##Arguments\n",
        "\n",
        "1. learning_rate: float >= 0. Learning rate.\n",
        "2. beta_1: float, 0 < beta < 1. Generally close to 1.\n",
        "3. beta_2: float, 0 < beta < 1. Generally close to 1."
      ]
    },
    {
      "cell_type": "code",
      "metadata": {
        "id": "4gyPzlPZF_6g",
        "colab_type": "code",
        "colab": {}
      },
      "source": [
        "from keras import optimizers\n",
        "adamax=keras.optimizers.Adamax(lr=0.002, beta_1=0.9, beta_2=0.999)\n"
      ],
      "execution_count": 0,
      "outputs": []
    },
    {
      "cell_type": "code",
      "metadata": {
        "id": "E6bN-BTcGABe",
        "colab_type": "code",
        "colab": {}
      },
      "source": [
        "# Compile model using above optimizer\n",
        "model.compile(optimizer=adamax,\n",
        "              loss='categorical_crossentropy',\n",
        "              metrics=['accuracy'])\n",
        "\n",
        "# Train model\n",
        "model.fit(X_train, y_train,\n",
        "          batch_size=BATCH_SIZE,\n",
        "          epochs=EPOCHS,\n",
        "          verbose=1,\n",
        "          validation_data=(X_test, y_test))\n",
        "\n",
        "score = model.evaluate(X_test, y_test, verbose=0)\n",
        "print('Test loss:', score[0])\n",
        "print('Test accuracy:', score[1])"
      ],
      "execution_count": 0,
      "outputs": []
    },
    {
      "cell_type": "markdown",
      "metadata": {
        "id": "asUHZi1vGMt5",
        "colab_type": "text"
      },
      "source": [
        "#Nadam\n",
        "\n",
        "keras.optimizers.Nadam(learning_rate=0.002, beta_1=0.9, beta_2=0.999)\n",
        "\n",
        "##Nesterov Adam optimizer.\n",
        "\n",
        "Much like Adam is essentially RMSprop with momentum, Nadam is RMSprop with Nesterov momentum.\n",
        "\n",
        "Default parameters follow those provided in the paper. It is recommended to leave the parameters of this optimizer at their default values.\n",
        "\n",
        "##Arguments\n",
        "\n",
        "1. learning_rate: float >= 0. Learning rate.\n",
        "2. beta_1: float, 0 < beta < 1. Generally close to 1.\n",
        "3. beta_2: float, 0 < beta < 1. Generally close to 1."
      ]
    },
    {
      "cell_type": "code",
      "metadata": {
        "id": "eNvmlsUnGTtb",
        "colab_type": "code",
        "colab": {}
      },
      "source": [
        "from keras import optimizers\n",
        "nadam=keras.optimizers.Nadam(lr=0.002, beta_1=0.9, beta_2=0.999)\n",
        "\n"
      ],
      "execution_count": 0,
      "outputs": []
    },
    {
      "cell_type": "code",
      "metadata": {
        "id": "4qGcyfhNGUE8",
        "colab_type": "code",
        "colab": {}
      },
      "source": [
        "# Compile model using above optimizer\n",
        "model.compile(optimizer=nadam,\n",
        "              loss='categorical_crossentropy',\n",
        "              metrics=['accuracy'])\n",
        "\n",
        "# Train model\n",
        "model.fit(X_train, y_train,\n",
        "          batch_size=BATCH_SIZE,\n",
        "          epochs=EPOCHS,\n",
        "          verbose=1,\n",
        "          validation_data=(X_test, y_test))\n",
        "\n",
        "score = model.evaluate(X_test, y_test, verbose=0)\n",
        "print('Test loss:', score[0])\n",
        "print('Test accuracy:', score[1])"
      ],
      "execution_count": 0,
      "outputs": []
    },
    {
      "cell_type": "markdown",
      "metadata": {
        "id": "UR2xxjsjGn8Q",
        "colab_type": "text"
      },
      "source": [
        "#Thank you for completing the notebook"
      ]
    }
  ]
}