{
  "nbformat": 4,
  "nbformat_minor": 0,
  "metadata": {
    "colab": {
      "name": "J054_Lab6B.ipynb",
      "provenance": [],
      "include_colab_link": true
    },
    "kernelspec": {
      "name": "python3",
      "display_name": "Python 3"
    },
    "accelerator": "GPU"
  },
  "cells": [
    {
      "cell_type": "markdown",
      "metadata": {
        "id": "view-in-github",
        "colab_type": "text"
      },
      "source": [
        "<a href=\"https://colab.research.google.com/github/narayananv10/DeepLearning/blob/master/J054_Lab6B.ipynb\" target=\"_parent\"><img src=\"https://colab.research.google.com/assets/colab-badge.svg\" alt=\"Open In Colab\"/></a>"
      ]
    },
    {
      "cell_type": "markdown",
      "metadata": {
        "id": "-qGLrDE4pn8P",
        "colab_type": "text"
      },
      "source": [
        "#Keras layers\n",
        "\n",
        "The building blocks for neural network architectures"
      ]
    },
    {
      "cell_type": "markdown",
      "metadata": {
        "id": "RZHeMOJVp8Ui",
        "colab_type": "text"
      },
      "source": [
        "#Download dataset\n",
        "\n",
        "In this Keras tutorial, we are going to use the Pima Indians onset of diabetes dataset. This is a standard machine learning dataset from the UCI Machine Learning repository. It describes patient medical record data for Pima Indians and whether they had an onset of diabetes within five years.\n",
        "\n",
        "As such, it is a binary classification problem (onset of diabetes as 1 or not as 0). All of the input variables that describe each patient are numerical. This makes it easy to use directly with neural networks that expect numerical input and output values, and ideal for our first neural network in Keras."
      ]
    },
    {
      "cell_type": "code",
      "metadata": {
        "id": "oycfI2SLnukE",
        "colab_type": "code",
        "colab": {
          "base_uri": "https://localhost:8080/",
          "height": 204
        },
        "outputId": "19a08749-23ed-48e0-b017-ecbd8c240dc4"
      },
      "source": [
        "\n",
        "!wget  http://upscfever.com/datasets/pima-indians-diabetes.data.csv  -P drive/app\n"
      ],
      "execution_count": 1,
      "outputs": [
        {
          "output_type": "stream",
          "text": [
            "--2020-02-15 12:15:34--  http://upscfever.com/datasets/pima-indians-diabetes.data.csv\n",
            "Resolving upscfever.com (upscfever.com)... 104.27.177.133, 104.27.176.133, 2606:4700:3033::681b:b185, ...\n",
            "Connecting to upscfever.com (upscfever.com)|104.27.177.133|:80... connected.\n",
            "HTTP request sent, awaiting response... 200 OK\n",
            "Length: unspecified [text/csv]\n",
            "Saving to: ‘drive/app/pima-indians-diabetes.data.csv’\n",
            "\n",
            "\r          pima-indi     [<=>                 ]       0  --.-KB/s               \rpima-indians-diabet     [ <=>                ]  22.73K  --.-KB/s    in 0s      \n",
            "\n",
            "2020-02-15 12:15:34 (505 MB/s) - ‘drive/app/pima-indians-diabetes.data.csv’ saved [23278]\n",
            "\n"
          ],
          "name": "stdout"
        }
      ]
    },
    {
      "cell_type": "markdown",
      "metadata": {
        "id": "kGUV1OVTqDZD",
        "colab_type": "text"
      },
      "source": [
        "#Load libraries\n",
        "\n",
        "We can now load the file as a matrix of numbers using the NumPy function loadtxt().\n",
        "\n",
        "There are eight input variables and one output variable (the last column). We will be learning a model to map rows of input variables (X) to an output variable (y), which we often summarize as y = f(X).\n",
        "\n",
        "The variables can be summarized as follows:\n",
        "\n",
        "Input Variables (X):\n",
        "\n",
        "1. Number of times pregnant\n",
        "2. Plasma glucose concentration a 2 hours in an oral glucose tolerance test\n",
        "3. Diastolic blood pressure (mm Hg)\n",
        "4. Triceps skin fold thickness (mm)\n",
        "5. 2-Hour serum insulin (mu U/ml)\n",
        "6. Body mass index (weight in kg/(height in m)^2)\n",
        "7. Diabetes pedigree function\n",
        "8. Age (years)\n",
        "\n",
        "Output Variables (y):\n",
        "\n",
        "Class variable (0 or 1)\n"
      ]
    },
    {
      "cell_type": "code",
      "metadata": {
        "id": "ShIacRG-pdej",
        "colab_type": "code",
        "colab": {
          "base_uri": "https://localhost:8080/",
          "height": 80
        },
        "outputId": "bafe53cf-460f-4a8b-f7e7-5ea975a03190"
      },
      "source": [
        "import pandas as pd\n",
        "import numpy as np\n",
        "from numpy import loadtxt\n",
        "import keras\n",
        "from keras.models import Sequential\n",
        "from keras.layers import Dense\n",
        "dataset = loadtxt('drive/app/pima-indians-diabetes.data.csv', delimiter=',')\n",
        "# split into input (X) and output (y) variables\n",
        "X = dataset[:,0:8]\n",
        "y = dataset[:,8]"
      ],
      "execution_count": 2,
      "outputs": [
        {
          "output_type": "stream",
          "text": [
            "Using TensorFlow backend.\n"
          ],
          "name": "stderr"
        },
        {
          "output_type": "display_data",
          "data": {
            "text/html": [
              "<p style=\"color: red;\">\n",
              "The default version of TensorFlow in Colab will soon switch to TensorFlow 2.x.<br>\n",
              "We recommend you <a href=\"https://www.tensorflow.org/guide/migrate\" target=\"_blank\">upgrade</a> now \n",
              "or ensure your notebook will continue to use TensorFlow 1.x via the <code>%tensorflow_version 1.x</code> magic:\n",
              "<a href=\"https://colab.research.google.com/notebooks/tensorflow_version.ipynb\" target=\"_blank\">more info</a>.</p>\n"
            ],
            "text/plain": [
              "<IPython.core.display.HTML object>"
            ]
          },
          "metadata": {
            "tags": []
          }
        }
      ]
    },
    {
      "cell_type": "markdown",
      "metadata": {
        "id": "1i0X9CY-qaaq",
        "colab_type": "text"
      },
      "source": [
        "#Define keras model\n",
        "\n",
        "##Dense layer\n",
        "\n",
        "```\n",
        "keras.layers.Dense(units, activation=None, use_bias=True, kernel_initializer='glorot_uniform', bias_initializer='zeros', kernel_regularizer=None, bias_regularizer=None, activity_regularizer=None, kernel_constraint=None, bias_constraint=None)\n",
        "```\n",
        "\n",
        "Just your regular densely-connected NN layer.\n",
        "\n",
        "Dense implements the operation: output = activation(dot(input, kernel) + bias) where activation is the element-wise activation function passed as the activation argument, kernel is a weights matrix created by the layer, and bias is a bias vector created by the layer (only applicable if use_bias is True).\n",
        "\n",
        "Note: if the input to the layer has a rank greater than 2, then it is flattened prior to the initial dot product with kernel.\n",
        "\n",
        "Arguments\n",
        "\n",
        "1. units: Positive integer, dimensionality of the output space.\n",
        "2. activation: Activation function to use (see activations). If you don't specify anything, no activation is applied (ie. \"linear\" activation: a(x) = x).\n",
        "3. use_bias: Boolean, whether the layer uses a bias vector.\n",
        "4. kernel_initializer: Initializer for the kernel weights matrix (see initializers).\n",
        "5. bias_initializer: Initializer for the bias vector (see initializers).\n",
        "6. kernel_regularizer: Regularizer function applied to the kernel weights matrix (see regularizer).\n",
        "7. bias_regularizer: Regularizer function applied to the bias vector (see regularizer).\n",
        "8. activity_regularizer: Regularizer function applied to the output of the layer (its \"activation\"). (see regularizer).\n",
        "9. kernel_constraint: Constraint function applied to the kernel weights matrix (see constraints).\n",
        "10. bias_constraint: Constraint function applied to the bias vector (see constraints)."
      ]
    },
    {
      "cell_type": "code",
      "metadata": {
        "id": "IoFq8ywRqceh",
        "colab_type": "code",
        "colab": {
          "base_uri": "https://localhost:8080/",
          "height": 139
        },
        "outputId": "9fbd58b2-cada-4584-dfbc-0da3247c7f8f"
      },
      "source": [
        "# define the keras model\n",
        "model = Sequential()\n",
        "model.add(Dense(units=12, input_dim=8, activation='relu', use_bias=True, kernel_initializer='glorot_uniform', bias_initializer='zeros', kernel_regularizer=keras.regularizers.l1_l2(l1=0.01, l2=0.01), bias_regularizer=keras.regularizers.l1_l2(l1=0.01, l2=0.01), activity_regularizer=keras.regularizers.l1_l2(l1=0.01, l2=0.01), kernel_constraint=keras.constraints.MinMaxNorm(min_value=0.0, max_value=1.0, rate=1.0, axis=0), bias_constraint=keras.constraints.MinMaxNorm(min_value=0.0, max_value=1.0, rate=1.0, axis=0)))\n",
        "model.add(Dense(units=8, activation='relu', use_bias=True, kernel_initializer='glorot_uniform', bias_initializer='zeros', kernel_regularizer=keras.regularizers.l1_l2(l1=0.01, l2=0.01), bias_regularizer=keras.regularizers.l1_l2(l1=0.01, l2=0.01), activity_regularizer=keras.regularizers.l1_l2(l1=0.01, l2=0.01), kernel_constraint=keras.constraints.MinMaxNorm(min_value=0.0, max_value=1.0, rate=1.0, axis=0), bias_constraint=keras.constraints.MinMaxNorm(min_value=0.0, max_value=1.0, rate=1.0, axis=0)))\n",
        "model.add(Dense(units=1, activation='sigmoid', kernel_initializer='glorot_uniform', bias_initializer='zeros', kernel_regularizer=keras.regularizers.l1_l2(l1=0.01, l2=0.01), bias_regularizer=keras.regularizers.l1_l2(l1=0.01, l2=0.01), activity_regularizer=keras.regularizers.l1_l2(l1=0.01, l2=0.01), kernel_constraint=keras.constraints.MinMaxNorm(min_value=0.0, max_value=1.0, rate=1.0, axis=0), bias_constraint=keras.constraints.MinMaxNorm(min_value=0.0, max_value=1.0, rate=1.0, axis=0)))"
      ],
      "execution_count": 3,
      "outputs": [
        {
          "output_type": "stream",
          "text": [
            "WARNING:tensorflow:From /usr/local/lib/python3.6/dist-packages/keras/backend/tensorflow_backend.py:66: The name tf.get_default_graph is deprecated. Please use tf.compat.v1.get_default_graph instead.\n",
            "\n",
            "WARNING:tensorflow:From /usr/local/lib/python3.6/dist-packages/keras/backend/tensorflow_backend.py:541: The name tf.placeholder is deprecated. Please use tf.compat.v1.placeholder instead.\n",
            "\n",
            "WARNING:tensorflow:From /usr/local/lib/python3.6/dist-packages/keras/backend/tensorflow_backend.py:4432: The name tf.random_uniform is deprecated. Please use tf.random.uniform instead.\n",
            "\n"
          ],
          "name": "stdout"
        }
      ]
    },
    {
      "cell_type": "markdown",
      "metadata": {
        "id": "fu_8Z0x6sbE3",
        "colab_type": "text"
      },
      "source": [
        "#Dense layers\n",
        "\n",
        "Above code:\n",
        "\n",
        "1. The model expects rows of data with 8 variables (the input_dim=8 argument)\n",
        "2. The first hidden layer has 12 nodes and uses the relu activation function.\n",
        "3. The second hidden layer has 8 nodes and uses the relu activation function.\n",
        "4. The output layer has one node and uses the sigmoid activation function."
      ]
    },
    {
      "cell_type": "markdown",
      "metadata": {
        "id": "SL4gN-VMqzTk",
        "colab_type": "text"
      },
      "source": [
        "#Model compile"
      ]
    },
    {
      "cell_type": "code",
      "metadata": {
        "id": "FRWDG3XMtKMA",
        "colab_type": "code",
        "colab": {
          "base_uri": "https://localhost:8080/",
          "height": 156
        },
        "outputId": "3976c9c4-c7dd-4ab8-9780-a1dc13015a5e"
      },
      "source": [
        "# compile the keras model\n",
        "model.compile(loss='binary_crossentropy', optimizer='adam', metrics=['accuracy'])"
      ],
      "execution_count": 4,
      "outputs": [
        {
          "output_type": "stream",
          "text": [
            "WARNING:tensorflow:From /usr/local/lib/python3.6/dist-packages/keras/optimizers.py:793: The name tf.train.Optimizer is deprecated. Please use tf.compat.v1.train.Optimizer instead.\n",
            "\n",
            "WARNING:tensorflow:From /usr/local/lib/python3.6/dist-packages/keras/backend/tensorflow_backend.py:3657: The name tf.log is deprecated. Please use tf.math.log instead.\n",
            "\n",
            "WARNING:tensorflow:From /usr/local/lib/python3.6/dist-packages/tensorflow_core/python/ops/nn_impl.py:183: where (from tensorflow.python.ops.array_ops) is deprecated and will be removed in a future version.\n",
            "Instructions for updating:\n",
            "Use tf.where in 2.0, which has the same broadcast rule as np.where\n"
          ],
          "name": "stdout"
        }
      ]
    },
    {
      "cell_type": "markdown",
      "metadata": {
        "id": "cvCMp556tNZw",
        "colab_type": "text"
      },
      "source": [
        "#Fit Keras Model"
      ]
    },
    {
      "cell_type": "code",
      "metadata": {
        "id": "BnvfSSNktSIR",
        "colab_type": "code",
        "colab": {
          "base_uri": "https://localhost:8080/",
          "height": 1000
        },
        "outputId": "e46b11fc-58a8-468b-99fd-246c1e303f73"
      },
      "source": [
        "# fit the keras model on the dataset\n",
        "model.fit(X, y, epochs=150, batch_size=10)"
      ],
      "execution_count": 5,
      "outputs": [
        {
          "output_type": "stream",
          "text": [
            "WARNING:tensorflow:From /usr/local/lib/python3.6/dist-packages/keras/backend/tensorflow_backend.py:1033: The name tf.assign_add is deprecated. Please use tf.compat.v1.assign_add instead.\n",
            "\n",
            "WARNING:tensorflow:From /usr/local/lib/python3.6/dist-packages/keras/backend/tensorflow_backend.py:1020: The name tf.assign is deprecated. Please use tf.compat.v1.assign instead.\n",
            "\n",
            "WARNING:tensorflow:From /usr/local/lib/python3.6/dist-packages/keras/backend/tensorflow_backend.py:3005: The name tf.Session is deprecated. Please use tf.compat.v1.Session instead.\n",
            "\n",
            "Epoch 1/150\n",
            "WARNING:tensorflow:From /usr/local/lib/python3.6/dist-packages/keras/backend/tensorflow_backend.py:190: The name tf.get_default_session is deprecated. Please use tf.compat.v1.get_default_session instead.\n",
            "\n",
            "WARNING:tensorflow:From /usr/local/lib/python3.6/dist-packages/keras/backend/tensorflow_backend.py:197: The name tf.ConfigProto is deprecated. Please use tf.compat.v1.ConfigProto instead.\n",
            "\n",
            "WARNING:tensorflow:From /usr/local/lib/python3.6/dist-packages/keras/backend/tensorflow_backend.py:207: The name tf.global_variables is deprecated. Please use tf.compat.v1.global_variables instead.\n",
            "\n",
            "WARNING:tensorflow:From /usr/local/lib/python3.6/dist-packages/keras/backend/tensorflow_backend.py:216: The name tf.is_variable_initialized is deprecated. Please use tf.compat.v1.is_variable_initialized instead.\n",
            "\n",
            "WARNING:tensorflow:From /usr/local/lib/python3.6/dist-packages/keras/backend/tensorflow_backend.py:223: The name tf.variables_initializer is deprecated. Please use tf.compat.v1.variables_initializer instead.\n",
            "\n",
            "768/768 [==============================] - 10s 13ms/step - loss: 1203.9395 - acc: 0.5651\n",
            "Epoch 2/150\n",
            "768/768 [==============================] - 0s 433us/step - loss: 608.0423 - acc: 0.5938\n",
            "Epoch 3/150\n",
            "768/768 [==============================] - 0s 442us/step - loss: 320.2580 - acc: 0.6224\n",
            "Epoch 4/150\n",
            "768/768 [==============================] - 0s 441us/step - loss: 173.8247 - acc: 0.6315\n",
            "Epoch 5/150\n",
            "768/768 [==============================] - 0s 468us/step - loss: 100.1437 - acc: 0.6602\n",
            "Epoch 6/150\n",
            "768/768 [==============================] - 0s 488us/step - loss: 60.9884 - acc: 0.6497\n",
            "Epoch 7/150\n",
            "768/768 [==============================] - 0s 447us/step - loss: 39.9926 - acc: 0.6576\n",
            "Epoch 8/150\n",
            "768/768 [==============================] - 0s 414us/step - loss: 27.3468 - acc: 0.6563\n",
            "Epoch 9/150\n",
            "768/768 [==============================] - 0s 440us/step - loss: 19.7974 - acc: 0.6549\n",
            "Epoch 10/150\n",
            "768/768 [==============================] - 0s 634us/step - loss: 14.5378 - acc: 0.6523\n",
            "Epoch 11/150\n",
            "768/768 [==============================] - 0s 513us/step - loss: 11.0965 - acc: 0.6510\n",
            "Epoch 12/150\n",
            "768/768 [==============================] - 0s 440us/step - loss: 8.7009 - acc: 0.6523\n",
            "Epoch 13/150\n",
            "768/768 [==============================] - 0s 428us/step - loss: 6.9714 - acc: 0.6523\n",
            "Epoch 14/150\n",
            "768/768 [==============================] - 0s 451us/step - loss: 5.7012 - acc: 0.6523\n",
            "Epoch 15/150\n",
            "768/768 [==============================] - 0s 448us/step - loss: 4.7879 - acc: 0.6510\n",
            "Epoch 16/150\n",
            "768/768 [==============================] - 0s 429us/step - loss: 4.1086 - acc: 0.6510\n",
            "Epoch 17/150\n",
            "768/768 [==============================] - 0s 478us/step - loss: 3.5906 - acc: 0.6497\n",
            "Epoch 18/150\n",
            "768/768 [==============================] - 0s 432us/step - loss: 3.1986 - acc: 0.6484\n",
            "Epoch 19/150\n",
            "768/768 [==============================] - 0s 508us/step - loss: 2.8803 - acc: 0.6484\n",
            "Epoch 20/150\n",
            "768/768 [==============================] - 0s 468us/step - loss: 2.6310 - acc: 0.6497\n",
            "Epoch 21/150\n",
            "768/768 [==============================] - 0s 422us/step - loss: 2.4270 - acc: 0.6497\n",
            "Epoch 22/150\n",
            "768/768 [==============================] - 0s 402us/step - loss: 2.2571 - acc: 0.6497\n",
            "Epoch 23/150\n",
            "768/768 [==============================] - 0s 469us/step - loss: 2.1204 - acc: 0.6510\n",
            "Epoch 24/150\n",
            "768/768 [==============================] - 0s 413us/step - loss: 1.9950 - acc: 0.6510\n",
            "Epoch 25/150\n",
            "768/768 [==============================] - 0s 434us/step - loss: 1.8984 - acc: 0.6497\n",
            "Epoch 26/150\n",
            "768/768 [==============================] - 0s 426us/step - loss: 1.8060 - acc: 0.6497\n",
            "Epoch 27/150\n",
            "768/768 [==============================] - 0s 434us/step - loss: 1.7321 - acc: 0.6497\n",
            "Epoch 28/150\n",
            "768/768 [==============================] - 0s 454us/step - loss: 1.6670 - acc: 0.6497\n",
            "Epoch 29/150\n",
            "768/768 [==============================] - 0s 445us/step - loss: 1.6118 - acc: 0.6497\n",
            "Epoch 30/150\n",
            "768/768 [==============================] - 0s 424us/step - loss: 1.5633 - acc: 0.6497\n",
            "Epoch 31/150\n",
            "768/768 [==============================] - 0s 425us/step - loss: 1.5191 - acc: 0.6497\n",
            "Epoch 32/150\n",
            "768/768 [==============================] - 0s 441us/step - loss: 1.4799 - acc: 0.6510\n",
            "Epoch 33/150\n",
            "768/768 [==============================] - 0s 426us/step - loss: 1.4440 - acc: 0.6510\n",
            "Epoch 34/150\n",
            "768/768 [==============================] - 0s 422us/step - loss: 1.4100 - acc: 0.6510\n",
            "Epoch 35/150\n",
            "768/768 [==============================] - 0s 462us/step - loss: 1.3807 - acc: 0.6510\n",
            "Epoch 36/150\n",
            "768/768 [==============================] - 0s 444us/step - loss: 1.3517 - acc: 0.6510\n",
            "Epoch 37/150\n",
            "768/768 [==============================] - 0s 408us/step - loss: 1.3277 - acc: 0.6510\n",
            "Epoch 38/150\n",
            "768/768 [==============================] - 0s 450us/step - loss: 1.3034 - acc: 0.6510\n",
            "Epoch 39/150\n",
            "768/768 [==============================] - 0s 436us/step - loss: 1.2821 - acc: 0.6510\n",
            "Epoch 40/150\n",
            "768/768 [==============================] - 0s 418us/step - loss: 1.2619 - acc: 0.6510\n",
            "Epoch 41/150\n",
            "768/768 [==============================] - 0s 440us/step - loss: 1.2423 - acc: 0.6510\n",
            "Epoch 42/150\n",
            "768/768 [==============================] - 0s 477us/step - loss: 1.2259 - acc: 0.6510\n",
            "Epoch 43/150\n",
            "768/768 [==============================] - 0s 428us/step - loss: 1.2093 - acc: 0.6510\n",
            "Epoch 44/150\n",
            "768/768 [==============================] - 0s 438us/step - loss: 1.1942 - acc: 0.6510\n",
            "Epoch 45/150\n",
            "768/768 [==============================] - 0s 464us/step - loss: 1.1803 - acc: 0.6510\n",
            "Epoch 46/150\n",
            "768/768 [==============================] - 0s 449us/step - loss: 1.1654 - acc: 0.6510\n",
            "Epoch 47/150\n",
            "768/768 [==============================] - 0s 453us/step - loss: 1.1524 - acc: 0.6510\n",
            "Epoch 48/150\n",
            "768/768 [==============================] - 0s 567us/step - loss: 1.1400 - acc: 0.6510\n",
            "Epoch 49/150\n",
            "768/768 [==============================] - 0s 416us/step - loss: 1.1278 - acc: 0.6510\n",
            "Epoch 50/150\n",
            "768/768 [==============================] - 0s 387us/step - loss: 1.1164 - acc: 0.6510\n",
            "Epoch 51/150\n",
            "768/768 [==============================] - 0s 435us/step - loss: 1.1052 - acc: 0.6510\n",
            "Epoch 52/150\n",
            "768/768 [==============================] - 0s 444us/step - loss: 1.0947 - acc: 0.6510\n",
            "Epoch 53/150\n",
            "768/768 [==============================] - 0s 455us/step - loss: 1.0845 - acc: 0.6510\n",
            "Epoch 54/150\n",
            "768/768 [==============================] - 0s 468us/step - loss: 1.0750 - acc: 0.6510\n",
            "Epoch 55/150\n",
            "768/768 [==============================] - 0s 453us/step - loss: 1.0657 - acc: 0.6510\n",
            "Epoch 56/150\n",
            "768/768 [==============================] - 0s 447us/step - loss: 1.0565 - acc: 0.6510\n",
            "Epoch 57/150\n",
            "768/768 [==============================] - 0s 437us/step - loss: 1.0476 - acc: 0.6510\n",
            "Epoch 58/150\n",
            "768/768 [==============================] - 0s 423us/step - loss: 1.0392 - acc: 0.6510\n",
            "Epoch 59/150\n",
            "768/768 [==============================] - 0s 467us/step - loss: 1.0313 - acc: 0.6510\n",
            "Epoch 60/150\n",
            "768/768 [==============================] - 0s 508us/step - loss: 1.0236 - acc: 0.6510\n",
            "Epoch 61/150\n",
            "768/768 [==============================] - 0s 454us/step - loss: 1.0160 - acc: 0.6510\n",
            "Epoch 62/150\n",
            "768/768 [==============================] - 0s 504us/step - loss: 1.0086 - acc: 0.6510\n",
            "Epoch 63/150\n",
            "768/768 [==============================] - 0s 445us/step - loss: 1.0017 - acc: 0.6510\n",
            "Epoch 64/150\n",
            "768/768 [==============================] - 0s 425us/step - loss: 0.9949 - acc: 0.6510\n",
            "Epoch 65/150\n",
            "768/768 [==============================] - 0s 464us/step - loss: 0.9882 - acc: 0.6510\n",
            "Epoch 66/150\n",
            "768/768 [==============================] - 0s 416us/step - loss: 0.9822 - acc: 0.6510\n",
            "Epoch 67/150\n",
            "768/768 [==============================] - 0s 433us/step - loss: 0.9758 - acc: 0.6510\n",
            "Epoch 68/150\n",
            "768/768 [==============================] - 0s 481us/step - loss: 0.9702 - acc: 0.6510\n",
            "Epoch 69/150\n",
            "768/768 [==============================] - 0s 489us/step - loss: 0.9648 - acc: 0.6510\n",
            "Epoch 70/150\n",
            "768/768 [==============================] - 0s 417us/step - loss: 0.9594 - acc: 0.6510\n",
            "Epoch 71/150\n",
            "768/768 [==============================] - 0s 442us/step - loss: 0.9543 - acc: 0.6510\n",
            "Epoch 72/150\n",
            "768/768 [==============================] - 0s 437us/step - loss: 0.9493 - acc: 0.6510\n",
            "Epoch 73/150\n",
            "768/768 [==============================] - 0s 421us/step - loss: 0.9444 - acc: 0.6510\n",
            "Epoch 74/150\n",
            "768/768 [==============================] - 0s 465us/step - loss: 0.9397 - acc: 0.6510\n",
            "Epoch 75/150\n",
            "768/768 [==============================] - 0s 458us/step - loss: 0.9354 - acc: 0.6510\n",
            "Epoch 76/150\n",
            "768/768 [==============================] - 0s 426us/step - loss: 0.9310 - acc: 0.6510\n",
            "Epoch 77/150\n",
            "768/768 [==============================] - 0s 437us/step - loss: 0.9269 - acc: 0.6510\n",
            "Epoch 78/150\n",
            "768/768 [==============================] - 0s 430us/step - loss: 0.9232 - acc: 0.6510\n",
            "Epoch 79/150\n",
            "768/768 [==============================] - 0s 422us/step - loss: 0.9194 - acc: 0.6510\n",
            "Epoch 80/150\n",
            "768/768 [==============================] - 0s 452us/step - loss: 0.9164 - acc: 0.6510\n",
            "Epoch 81/150\n",
            "768/768 [==============================] - 0s 437us/step - loss: 0.9131 - acc: 0.6510\n",
            "Epoch 82/150\n",
            "768/768 [==============================] - 0s 505us/step - loss: 0.9093 - acc: 0.6510\n",
            "Epoch 83/150\n",
            "768/768 [==============================] - 0s 467us/step - loss: 0.9071 - acc: 0.6510\n",
            "Epoch 84/150\n",
            "768/768 [==============================] - 0s 402us/step - loss: 0.9035 - acc: 0.6510\n",
            "Epoch 85/150\n",
            "768/768 [==============================] - 1s 659us/step - loss: 0.9000 - acc: 0.6510\n",
            "Epoch 86/150\n",
            "768/768 [==============================] - 0s 586us/step - loss: 0.8966 - acc: 0.6510\n",
            "Epoch 87/150\n",
            "768/768 [==============================] - 0s 444us/step - loss: 0.8935 - acc: 0.6510\n",
            "Epoch 88/150\n",
            "768/768 [==============================] - 0s 429us/step - loss: 0.8913 - acc: 0.6510\n",
            "Epoch 89/150\n",
            "768/768 [==============================] - 0s 442us/step - loss: 0.8881 - acc: 0.6510\n",
            "Epoch 90/150\n",
            "768/768 [==============================] - 0s 436us/step - loss: 0.8854 - acc: 0.6510\n",
            "Epoch 91/150\n",
            "768/768 [==============================] - 0s 432us/step - loss: 0.8824 - acc: 0.6510\n",
            "Epoch 92/150\n",
            "768/768 [==============================] - 0s 436us/step - loss: 0.8795 - acc: 0.6510\n",
            "Epoch 93/150\n",
            "768/768 [==============================] - 0s 437us/step - loss: 0.8768 - acc: 0.6510\n",
            "Epoch 94/150\n",
            "768/768 [==============================] - 0s 390us/step - loss: 0.8742 - acc: 0.6510\n",
            "Epoch 95/150\n",
            "768/768 [==============================] - 0s 458us/step - loss: 0.8726 - acc: 0.6510\n",
            "Epoch 96/150\n",
            "768/768 [==============================] - 0s 460us/step - loss: 0.8708 - acc: 0.6510\n",
            "Epoch 97/150\n",
            "768/768 [==============================] - 0s 449us/step - loss: 0.8695 - acc: 0.6510\n",
            "Epoch 98/150\n",
            "768/768 [==============================] - 0s 457us/step - loss: 0.8668 - acc: 0.6510\n",
            "Epoch 99/150\n",
            "768/768 [==============================] - 0s 462us/step - loss: 0.8637 - acc: 0.6510\n",
            "Epoch 100/150\n",
            "768/768 [==============================] - 0s 465us/step - loss: 0.8612 - acc: 0.6510\n",
            "Epoch 101/150\n",
            "768/768 [==============================] - 0s 470us/step - loss: 0.8588 - acc: 0.6510\n",
            "Epoch 102/150\n",
            "768/768 [==============================] - 0s 442us/step - loss: 0.8575 - acc: 0.6510\n",
            "Epoch 103/150\n",
            "768/768 [==============================] - 0s 647us/step - loss: 0.8551 - acc: 0.6510\n",
            "Epoch 104/150\n",
            "768/768 [==============================] - 1s 666us/step - loss: 0.8529 - acc: 0.6510\n",
            "Epoch 105/150\n",
            "768/768 [==============================] - 0s 546us/step - loss: 0.8506 - acc: 0.6510\n",
            "Epoch 106/150\n",
            "768/768 [==============================] - 0s 510us/step - loss: 0.8483 - acc: 0.6510\n",
            "Epoch 107/150\n",
            "768/768 [==============================] - 0s 458us/step - loss: 0.8461 - acc: 0.6510\n",
            "Epoch 108/150\n",
            "768/768 [==============================] - 0s 486us/step - loss: 0.8448 - acc: 0.6510\n",
            "Epoch 109/150\n",
            "768/768 [==============================] - 0s 489us/step - loss: 0.8425 - acc: 0.6510\n",
            "Epoch 110/150\n",
            "768/768 [==============================] - 0s 451us/step - loss: 0.8405 - acc: 0.6510\n",
            "Epoch 111/150\n",
            "768/768 [==============================] - 0s 469us/step - loss: 0.8381 - acc: 0.6510\n",
            "Epoch 112/150\n",
            "768/768 [==============================] - 0s 537us/step - loss: 0.8359 - acc: 0.6510\n",
            "Epoch 113/150\n",
            "768/768 [==============================] - 0s 548us/step - loss: 0.8344 - acc: 0.6510\n",
            "Epoch 114/150\n",
            "768/768 [==============================] - 0s 465us/step - loss: 0.8321 - acc: 0.6510\n",
            "Epoch 115/150\n",
            "768/768 [==============================] - 0s 459us/step - loss: 0.8302 - acc: 0.6510\n",
            "Epoch 116/150\n",
            "768/768 [==============================] - 0s 459us/step - loss: 0.8286 - acc: 0.6510\n",
            "Epoch 117/150\n",
            "768/768 [==============================] - 0s 465us/step - loss: 0.8274 - acc: 0.6510\n",
            "Epoch 118/150\n",
            "768/768 [==============================] - 0s 442us/step - loss: 0.8264 - acc: 0.6510\n",
            "Epoch 119/150\n",
            "768/768 [==============================] - 0s 515us/step - loss: 0.8240 - acc: 0.6510\n",
            "Epoch 120/150\n",
            "768/768 [==============================] - 0s 469us/step - loss: 0.8215 - acc: 0.6510\n",
            "Epoch 121/150\n",
            "768/768 [==============================] - 0s 435us/step - loss: 0.8195 - acc: 0.6510\n",
            "Epoch 122/150\n",
            "768/768 [==============================] - 0s 496us/step - loss: 0.8172 - acc: 0.6510\n",
            "Epoch 123/150\n",
            "768/768 [==============================] - 0s 497us/step - loss: 0.8155 - acc: 0.6510\n",
            "Epoch 124/150\n",
            "768/768 [==============================] - 0s 434us/step - loss: 0.8127 - acc: 0.6510\n",
            "Epoch 125/150\n",
            "768/768 [==============================] - 0s 596us/step - loss: 0.8101 - acc: 0.6510\n",
            "Epoch 126/150\n",
            "768/768 [==============================] - 0s 619us/step - loss: 0.8078 - acc: 0.6510\n",
            "Epoch 127/150\n",
            "768/768 [==============================] - 0s 486us/step - loss: 0.8053 - acc: 0.6510\n",
            "Epoch 128/150\n",
            "768/768 [==============================] - 0s 507us/step - loss: 0.8036 - acc: 0.6510\n",
            "Epoch 129/150\n",
            "768/768 [==============================] - 0s 545us/step - loss: 0.8017 - acc: 0.6510\n",
            "Epoch 130/150\n",
            "768/768 [==============================] - 0s 454us/step - loss: 0.7990 - acc: 0.6510\n",
            "Epoch 131/150\n",
            "768/768 [==============================] - 0s 529us/step - loss: 0.7971 - acc: 0.6510\n",
            "Epoch 132/150\n",
            "768/768 [==============================] - 0s 435us/step - loss: 0.7962 - acc: 0.6510\n",
            "Epoch 133/150\n",
            "768/768 [==============================] - 0s 427us/step - loss: 0.7959 - acc: 0.6510\n",
            "Epoch 134/150\n",
            "768/768 [==============================] - 0s 425us/step - loss: 0.7938 - acc: 0.6510\n",
            "Epoch 135/150\n",
            "768/768 [==============================] - 0s 434us/step - loss: 0.7919 - acc: 0.6510\n",
            "Epoch 136/150\n",
            "768/768 [==============================] - 0s 460us/step - loss: 0.7903 - acc: 0.6510\n",
            "Epoch 137/150\n",
            "768/768 [==============================] - 0s 417us/step - loss: 0.7880 - acc: 0.6510\n",
            "Epoch 138/150\n",
            "768/768 [==============================] - 0s 475us/step - loss: 0.7857 - acc: 0.6510\n",
            "Epoch 139/150\n",
            "768/768 [==============================] - 0s 407us/step - loss: 0.7834 - acc: 0.6510\n",
            "Epoch 140/150\n",
            "768/768 [==============================] - 0s 433us/step - loss: 0.7815 - acc: 0.6510\n",
            "Epoch 141/150\n",
            "768/768 [==============================] - 0s 438us/step - loss: 0.7802 - acc: 0.6510\n",
            "Epoch 142/150\n",
            "768/768 [==============================] - 0s 415us/step - loss: 0.7784 - acc: 0.6510\n",
            "Epoch 143/150\n",
            "768/768 [==============================] - 0s 458us/step - loss: 0.7764 - acc: 0.6510\n",
            "Epoch 144/150\n",
            "768/768 [==============================] - 0s 635us/step - loss: 0.7742 - acc: 0.6510\n",
            "Epoch 145/150\n",
            "768/768 [==============================] - 0s 607us/step - loss: 0.7723 - acc: 0.6510\n",
            "Epoch 146/150\n",
            "768/768 [==============================] - 0s 432us/step - loss: 0.7704 - acc: 0.6510\n",
            "Epoch 147/150\n",
            "768/768 [==============================] - 0s 455us/step - loss: 0.7684 - acc: 0.6510\n",
            "Epoch 148/150\n",
            "768/768 [==============================] - 0s 432us/step - loss: 0.7669 - acc: 0.6510\n",
            "Epoch 149/150\n",
            "768/768 [==============================] - 0s 496us/step - loss: 0.7649 - acc: 0.6510\n",
            "Epoch 150/150\n",
            "768/768 [==============================] - 0s 454us/step - loss: 0.7633 - acc: 0.6510\n"
          ],
          "name": "stdout"
        },
        {
          "output_type": "execute_result",
          "data": {
            "text/plain": [
              "<keras.callbacks.History at 0x7f70008d9a90>"
            ]
          },
          "metadata": {
            "tags": []
          },
          "execution_count": 5
        }
      ]
    },
    {
      "cell_type": "markdown",
      "metadata": {
        "id": "OYOV62LqtUMY",
        "colab_type": "text"
      },
      "source": [
        "#Evaluate Keras Model"
      ]
    },
    {
      "cell_type": "code",
      "metadata": {
        "id": "EvnxnPIgtWWh",
        "colab_type": "code",
        "colab": {
          "base_uri": "https://localhost:8080/",
          "height": 51
        },
        "outputId": "94f4b4d8-b7d6-4229-eb7f-38b8edeeb8c4"
      },
      "source": [
        "# evaluate the keras model\n",
        "_, accuracy = model.evaluate(X, y)\n",
        "print('Accuracy: %.2f' % (accuracy*100))"
      ],
      "execution_count": 6,
      "outputs": [
        {
          "output_type": "stream",
          "text": [
            "768/768 [==============================] - 0s 126us/step\n",
            "Accuracy: 65.10\n"
          ],
          "name": "stdout"
        }
      ]
    },
    {
      "cell_type": "markdown",
      "metadata": {
        "id": "jXn6vvh3uhya",
        "colab_type": "text"
      },
      "source": [
        "#Thank you for completing this notebook"
      ]
    }
  ]
}