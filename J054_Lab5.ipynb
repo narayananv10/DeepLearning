{
  "nbformat": 4,
  "nbformat_minor": 0,
  "metadata": {
    "colab": {
      "name": "J054_Lab5.ipynb",
      "provenance": [],
      "collapsed_sections": [],
      "include_colab_link": true
    },
    "kernelspec": {
      "name": "python3",
      "display_name": "Python 3"
    },
    "accelerator": "GPU"
  },
  "cells": [
    {
      "cell_type": "markdown",
      "metadata": {
        "id": "view-in-github",
        "colab_type": "text"
      },
      "source": [
        "<a href=\"https://colab.research.google.com/github/narayananv10/DeepLearning/blob/master/J054_Lab5.ipynb\" target=\"_parent\"><img src=\"https://colab.research.google.com/assets/colab-badge.svg\" alt=\"Open In Colab\"/></a>"
      ]
    },
    {
      "cell_type": "markdown",
      "metadata": {
        "id": "eKHexO4ug2q4",
        "colab_type": "text"
      },
      "source": [
        "#Building powerful image classification models using very little data\n",
        "\n",
        "Aim is to build a powerful image classifier, using only very few training examples\n",
        "\n",
        "Our setup: only 2000 training examples (1000 per class)\n",
        "\n"
      ]
    },
    {
      "cell_type": "code",
      "metadata": {
        "id": "F8jwTf2Pey5D",
        "colab_type": "code",
        "colab": {}
      },
      "source": [
        "from __future__ import print_function\n",
        "import keras\n",
        "from keras.datasets import cifar10\n",
        "from keras import backend as K\n",
        "import matplotlib.pyplot as plt\n",
        "import numpy as np\n",
        "\n",
        "#Input image dimensions\n",
        "img_rows, img_cols = 32, 32\n",
        "num_classes = 2\n",
        "#The data, shuffled and split between train and test sets\n",
        "(x_train, y_train), (x_test, y_test) = cifar10.load_data()\n",
        "\n",
        "#Only look at cats [=3] and dogs [=5]\n",
        "train_picks = np.ravel(np.logical_or(y_train==3,y_train==5))  \n",
        "test_picks = np.ravel(np.logical_or(y_test==3,y_test==5))\n",
        "y_train = np.array(y_train[train_picks]==5,dtype=int)\n",
        "y_test = np.array(y_test[test_picks]==5,dtype=int)\n",
        "x_train = x_train[train_picks]\n",
        "x_test = x_test[test_picks]\n",
        "\n",
        "if K.image_data_format() == 'channels_first':\n",
        "    x_train = x_train.reshape(x_train.shape[0], 3, img_rows, img_cols)\n",
        "    x_test = x_test.reshape(x_test.shape[0], 3, img_rows, img_cols)\n",
        "    input_shape = (3, img_rows, img_cols)\n",
        "else:\n",
        "    x_train = x_train.reshape(x_train.shape[0], img_rows, img_cols, 3)\n",
        "    x_test = x_test.reshape(x_test.shape[0], img_rows, img_cols, 3)\n",
        "    input_shape = (img_rows, img_cols, 3)\n",
        "    \n",
        "x_train = x_train.astype('float32')\n",
        "x_test = x_test.astype('float32')\n",
        "x_train /= 255\n",
        "x_test /= 255\n",
        "print('x_train shape:', x_train.shape)\n",
        "print(x_train.shape[0], 'train samples')\n",
        "print(x_test.shape[0], 'test samples')\n",
        "\n",
        "\n",
        "#Convert class vectors to binary class matrices\n",
        "y_train = keras.utils.to_categorical(np.ravel(y_train), num_classes)\n",
        "y_test = keras.utils.to_categorical(np.ravel(y_test), num_classes)\n",
        "\n",
        "#Look at the first 9 images from the dataset\n",
        "images = range(0,9)\n",
        "for i in images:\n",
        "    plt.subplot(330 + 1 + i)\n",
        "    plt.imshow(x_train[i], cmap=plt.get_cmap('gray'))\n",
        "    \n",
        "#Show the plot\n",
        "plt.show()"
      ],
      "execution_count": 0,
      "outputs": []
    },
    {
      "cell_type": "markdown",
      "metadata": {
        "id": "iNSCEsr-k4ec",
        "colab_type": "text"
      },
      "source": [
        "#Create an image generator from ImageDataGenerator()\n",
        "\n",
        "##Randomly Rotate Images\n",
        "\n",
        "1. First we need to create an image generator by calling the ImageDataGenerator() function and pass it a list of parameters describing the alterations that we want it to perform on the images. \n",
        "2. We will then call the fit() function on our image generator which will apply the changes to the images batch by batch.\n",
        "3. You can also use keras.preprocessing to export augmented image files to a folder in order to build up a giant dataset of altered images should you desire to do so.\n",
        "\n",
        "##Randomly Rotate Images"
      ]
    },
    {
      "cell_type": "code",
      "metadata": {
        "id": "YvDZpHxJlPbg",
        "colab_type": "code",
        "colab": {}
      },
      "source": [
        "from keras.preprocessing.image import load_img\n",
        "from keras.preprocessing.image import img_to_array\n",
        "from keras.preprocessing.image import ImageDataGenerator\n",
        "# Rotate images by 90 degrees\n",
        "datagen = ImageDataGenerator(rotation_range=90)\n",
        "\n",
        "# fit parameters from data\n",
        "datagen.fit(x_train)\n",
        "\n",
        "# Configure batch size and retrieve one batch of images\n",
        "for X_batch, y_batch in datagen.flow(x_train, y_train, batch_size=9):\n",
        "    # Show 9 images\n",
        "    for i in range(0, 9):\n",
        "        plt.subplot(330 + 1 + i)\n",
        "        plt.imshow(X_batch[i].reshape(img_rows, img_cols, 3))\n",
        "    # show the plot\n",
        "    plt.show()\n",
        "    break"
      ],
      "execution_count": 0,
      "outputs": []
    },
    {
      "cell_type": "markdown",
      "metadata": {
        "id": "SHDHXum3ni5h",
        "colab_type": "text"
      },
      "source": [
        "#Flip Images Vertically\n"
      ]
    },
    {
      "cell_type": "code",
      "metadata": {
        "id": "ZNAy25PznkCd",
        "colab_type": "code",
        "colab": {}
      },
      "source": [
        "# Flip images vertically\n",
        "datagen = ImageDataGenerator(vertical_flip=True)\n",
        "\n",
        "# fit parameters from data\n",
        "datagen.fit(x_train)\n",
        "\n",
        "# Configure batch size and retrieve one batch of images\n",
        "for X_batch, y_batch in datagen.flow(x_train, y_train, batch_size=9):\n",
        "    # Show 9 images\n",
        "    for i in range(0, 9):\n",
        "        plt.subplot(330 + 1 + i)\n",
        "        plt.imshow(X_batch[i].reshape(img_rows, img_cols, 3))\n",
        "    # show the plot\n",
        "    plt.show()\n",
        "    break"
      ],
      "execution_count": 0,
      "outputs": []
    },
    {
      "cell_type": "markdown",
      "metadata": {
        "id": "qkcWvUyKnvb6",
        "colab_type": "text"
      },
      "source": [
        "#Shift Images Vertically or Horizontally by 20%"
      ]
    },
    {
      "cell_type": "code",
      "metadata": {
        "id": "pEfxeTBOnwZK",
        "colab_type": "code",
        "colab": {}
      },
      "source": [
        "# Shift images vertically or horizontally \n",
        "# Fill missing pixels with the color of the nearest pixel\n",
        "datagen = ImageDataGenerator(width_shift_range=.2, \n",
        "                             height_shift_range=.2,\n",
        "                             fill_mode='nearest')\n",
        "\n",
        "# fit parameters from data\n",
        "datagen.fit(x_train)\n",
        "\n",
        "# Configure batch size and retrieve one batch of images\n",
        "for X_batch, y_batch in datagen.flow(x_train, y_train, batch_size=9):\n",
        "    # Show 9 images\n",
        "    for i in range(0, 9):\n",
        "        plt.subplot(330 + 1 + i)\n",
        "        plt.imshow(X_batch[i].reshape(img_rows, img_cols, 3))\n",
        "    # show the plot\n",
        "    plt.show()\n",
        "    break"
      ],
      "execution_count": 0,
      "outputs": []
    },
    {
      "cell_type": "markdown",
      "metadata": {
        "id": "Fux9_1OJpXyL",
        "colab_type": "text"
      },
      "source": [
        "#featurewise_center: Boolean. \n",
        "\n",
        "Set input mean to 0 over the dataset, feature-wise."
      ]
    },
    {
      "cell_type": "code",
      "metadata": {
        "id": "BlYq1SmxpceO",
        "colab_type": "code",
        "colab": {}
      },
      "source": [
        "# Shift images vertically or horizontally \n",
        "# Fill missing pixels with the color of the nearest pixel\n",
        "datagen = ImageDataGenerator(featurewise_center=True)\n",
        "\n",
        "# fit parameters from data\n",
        "datagen.fit(x_train)\n",
        "\n",
        "# Configure batch size and retrieve one batch of images\n",
        "for X_batch, y_batch in datagen.flow(x_train, y_train, batch_size=9):\n",
        "    # Show 9 images\n",
        "    for i in range(0, 9):\n",
        "        plt.subplot(330 + 1 + i)\n",
        "        plt.imshow(X_batch[i].reshape(img_rows, img_cols, 3))\n",
        "    # show the plot\n",
        "    plt.show()\n",
        "    break"
      ],
      "execution_count": 0,
      "outputs": []
    },
    {
      "cell_type": "markdown",
      "metadata": {
        "id": "XtcoT8QLpiwq",
        "colab_type": "text"
      },
      "source": [
        "#samplewise_center: Boolean. \n",
        "\n",
        "Set each sample mean to 0."
      ]
    },
    {
      "cell_type": "code",
      "metadata": {
        "id": "X5Nu_2lopmcz",
        "colab_type": "code",
        "colab": {}
      },
      "source": [
        "# Shift images vertically or horizontally \n",
        "# Fill missing pixels with the color of the nearest pixel\n",
        "datagen = ImageDataGenerator(samplewise_center=True)\n",
        "\n",
        "# fit parameters from data\n",
        "datagen.fit(x_train)\n",
        "\n",
        "# Configure batch size and retrieve one batch of images\n",
        "for X_batch, y_batch in datagen.flow(x_train, y_train, batch_size=9):\n",
        "    # Show 9 images\n",
        "    for i in range(0, 9):\n",
        "        plt.subplot(330 + 1 + i)\n",
        "        plt.imshow(X_batch[i].reshape(img_rows, img_cols, 3))\n",
        "    # show the plot\n",
        "    plt.show()\n",
        "    break"
      ],
      "execution_count": 0,
      "outputs": []
    },
    {
      "cell_type": "markdown",
      "metadata": {
        "id": "2C5H_lzTpvFq",
        "colab_type": "text"
      },
      "source": [
        "#featurewise_std_normalization: Boolean. \n",
        "\n",
        "Divide inputs by std of the dataset, feature-wise."
      ]
    },
    {
      "cell_type": "code",
      "metadata": {
        "id": "TwKS6TOcp0lV",
        "colab_type": "code",
        "colab": {}
      },
      "source": [
        "# Shift images vertically or horizontally \n",
        "# Fill missing pixels with the color of the nearest pixel\n",
        "datagen = ImageDataGenerator(featurewise_std_normalization=True)\n",
        "\n",
        "# fit parameters from data\n",
        "datagen.fit(x_train)\n",
        "\n",
        "# Configure batch size and retrieve one batch of images\n",
        "for X_batch, y_batch in datagen.flow(x_train, y_train, batch_size=9):\n",
        "    # Show 9 images\n",
        "    for i in range(0, 9):\n",
        "        plt.subplot(330 + 1 + i)\n",
        "        plt.imshow(X_batch[i].reshape(img_rows, img_cols, 3))\n",
        "    # show the plot\n",
        "    plt.show()\n",
        "    break"
      ],
      "execution_count": 0,
      "outputs": []
    },
    {
      "cell_type": "markdown",
      "metadata": {
        "id": "2PpgLiibp37P",
        "colab_type": "text"
      },
      "source": [
        "#samplewise_std_normalization: Boolean. \n",
        "\n",
        "Divide each input by its std."
      ]
    },
    {
      "cell_type": "code",
      "metadata": {
        "id": "Bx1BqPSep8aV",
        "colab_type": "code",
        "colab": {}
      },
      "source": [
        "# Shift images vertically or horizontally \n",
        "# Fill missing pixels with the color of the nearest pixel\n",
        "datagen = ImageDataGenerator(samplewise_std_normalization=True)\n",
        "\n",
        "# fit parameters from data\n",
        "datagen.fit(x_train)\n",
        "\n",
        "# Configure batch size and retrieve one batch of images\n",
        "for X_batch, y_batch in datagen.flow(x_train, y_train, batch_size=9):\n",
        "    # Show 9 images\n",
        "    for i in range(0, 9):\n",
        "        plt.subplot(330 + 1 + i)\n",
        "        plt.imshow(X_batch[i].reshape(img_rows, img_cols, 3))\n",
        "    # show the plot\n",
        "    plt.show()\n",
        "    break"
      ],
      "execution_count": 0,
      "outputs": []
    },
    {
      "cell_type": "markdown",
      "metadata": {
        "id": "HAu-LpWup_RV",
        "colab_type": "text"
      },
      "source": [
        "#zca_epsilon: epsilon for ZCA whitening. \n",
        "\n",
        "Default is 1e-6."
      ]
    },
    {
      "cell_type": "code",
      "metadata": {
        "id": "oConZJytqDoc",
        "colab_type": "code",
        "colab": {}
      },
      "source": [
        "# Shift images vertically or horizontally \n",
        "# Fill missing pixels with the color of the nearest pixel\n",
        "datagen = ImageDataGenerator(zca_epsilon=1e-05)\n",
        "\n",
        "# fit parameters from data\n",
        "datagen.fit(x_train)\n",
        "\n",
        "# Configure batch size and retrieve one batch of images\n",
        "for X_batch, y_batch in datagen.flow(x_train, y_train, batch_size=9):\n",
        "    # Show 9 images\n",
        "    for i in range(0, 9):\n",
        "        plt.subplot(330 + 1 + i)\n",
        "        plt.imshow(X_batch[i].reshape(img_rows, img_cols, 3))\n",
        "    # show the plot\n",
        "    plt.show()\n",
        "    break"
      ],
      "execution_count": 0,
      "outputs": []
    },
    {
      "cell_type": "markdown",
      "metadata": {
        "id": "ouQnxGXlqLmx",
        "colab_type": "text"
      },
      "source": [
        "#zca_whitening: Boolean. \n",
        "\n",
        "Apply ZCA whitening"
      ]
    },
    {
      "cell_type": "code",
      "metadata": {
        "id": "9x3OJsKIqPZ-",
        "colab_type": "code",
        "colab": {}
      },
      "source": [
        "# Shift images vertically or horizontally \n",
        "# Fill missing pixels with the color of the nearest pixel\n",
        "datagen = ImageDataGenerator(zca_whitening=True)\n",
        "\n",
        "# fit parameters from data\n",
        "datagen.fit(x_train)\n",
        "\n",
        "# Configure batch size and retrieve one batch of images\n",
        "for X_batch, y_batch in datagen.flow(x_train, y_train, batch_size=9):\n",
        "    # Show 9 images\n",
        "    for i in range(0, 9):\n",
        "        plt.subplot(330 + 1 + i)\n",
        "        plt.imshow(X_batch[i].reshape(img_rows, img_cols, 3))\n",
        "    # show the plot\n",
        "    plt.show()\n",
        "    break"
      ],
      "execution_count": 0,
      "outputs": []
    },
    {
      "cell_type": "markdown",
      "metadata": {
        "id": "hNn_9LyUqZW-",
        "colab_type": "text"
      },
      "source": [
        "#rotation_range: Int. \n",
        "\n",
        "Degree range for random rotations."
      ]
    },
    {
      "cell_type": "code",
      "metadata": {
        "id": "8vhmHTvVqd14",
        "colab_type": "code",
        "colab": {}
      },
      "source": [
        "# Shift images vertically or horizontally \n",
        "# Fill missing pixels with the color of the nearest pixel\n",
        "datagen = ImageDataGenerator(rotation_range=30)\n",
        "\n",
        "# fit parameters from data\n",
        "datagen.fit(x_train)\n",
        "\n",
        "# Configure batch size and retrieve one batch of images\n",
        "for X_batch, y_batch in datagen.flow(x_train, y_train, batch_size=9):\n",
        "    # Show 9 images\n",
        "    for i in range(0, 9):\n",
        "        plt.subplot(330 + 1 + i)\n",
        "        plt.imshow(X_batch[i].reshape(img_rows, img_cols, 3))\n",
        "    # show the plot\n",
        "    plt.show()\n",
        "    break"
      ],
      "execution_count": 0,
      "outputs": []
    },
    {
      "cell_type": "markdown",
      "metadata": {
        "id": "P7szBRwWqj2Z",
        "colab_type": "text"
      },
      "source": [
        "#width_shift_range: Float, 1-D array-like or int\n",
        "\n",
        "1. float: fraction of total width, if < 1, or pixels if >= 1.\n",
        "2. 1-D array-like: random elements from the array.\n",
        "3. int: integer number of pixels from interval (-width_shift_range, +width_shift_range)\n",
        "\n",
        "With width_shift_range=2 possible values are integers [-1, 0, +1], same as with width_shift_range=[-1, 0, +1], while with width_shift_range=1.0 possible values are floats in the interval [-1.0, +1.0).\n",
        "\n",
        "#height_shift_range: Float, 1-D array-like or int\n",
        "\n",
        "1. float: fraction of total height, if < 1, or pixels if >= 1.\n",
        "2. 1-D array-like: random elements from the array.\n",
        "3. int: integer number of pixels from interval (-height_shift_range, +height_shift_range)\n",
        "\n",
        "With height_shift_range=2 possible values are integers [-1, 0, +1], same as with height_shift_range=[-1, 0, +1], while with height_shift_range=1.0 possible values are floats in the interval [-1.0, +1.0)."
      ]
    },
    {
      "cell_type": "code",
      "metadata": {
        "id": "2fbSHseZrdJj",
        "colab_type": "code",
        "colab": {}
      },
      "source": [
        "# Shift images vertically or horizontally \n",
        "# Fill missing pixels with the color of the nearest pixel\n",
        "datagen = ImageDataGenerator(width_shift_range=0.2, height_shift_range=0.2)\n",
        "\n",
        "# fit parameters from data\n",
        "datagen.fit(x_train)\n",
        "\n",
        "# Configure batch size and retrieve one batch of images\n",
        "for X_batch, y_batch in datagen.flow(x_train, y_train, batch_size=9):\n",
        "    # Show 9 images\n",
        "    for i in range(0, 9):\n",
        "        plt.subplot(330 + 1 + i)\n",
        "        plt.imshow(X_batch[i].reshape(img_rows, img_cols, 3))\n",
        "    # show the plot\n",
        "    plt.show()\n",
        "    break"
      ],
      "execution_count": 0,
      "outputs": []
    },
    {
      "cell_type": "markdown",
      "metadata": {
        "id": "nL47NejAr0ED",
        "colab_type": "text"
      },
      "source": [
        "#brightness_range: Tuple or list of two floats. \n",
        "\n",
        "Range for picking a brightness shift value from."
      ]
    },
    {
      "cell_type": "code",
      "metadata": {
        "id": "RXh0PRu2r555",
        "colab_type": "code",
        "colab": {}
      },
      "source": [
        "# Shift images vertically or horizontally \n",
        "# Fill missing pixels with the color of the nearest pixel\n",
        "datagen = ImageDataGenerator(brightness_range=[0.05,0.06])\n",
        "\n",
        "# fit parameters from data\n",
        "datagen.fit(x_train)\n",
        "\n",
        "# Configure batch size and retrieve one batch of images\n",
        "for X_batch, y_batch in datagen.flow(x_train, y_train, batch_size=9):\n",
        "    # Show 9 images\n",
        "    for i in range(0, 9):\n",
        "        plt.subplot(330 + 1 + i)\n",
        "        plt.imshow(X_batch[i].reshape(img_rows, img_cols, 3))\n",
        "    # show the plot\n",
        "    plt.show()\n",
        "    break"
      ],
      "execution_count": 0,
      "outputs": []
    },
    {
      "cell_type": "markdown",
      "metadata": {
        "id": "s5Er6JFosG2h",
        "colab_type": "text"
      },
      "source": [
        "\n",
        "#Other preprocessing\n",
        "\n",
        "1. shear_range: Float. Shear Intensity (Shear angle in counter-clockwise direction in degrees)\n",
        "2. zoom_range: Float or [lower, upper]. Range for random zoom. If a float, [lower, upper] = [1-zoom_range, 1+zoom_range].\n",
        "channel_shift_range: Float. Range for random channel shifts.\n",
        "3. fill_mode: One of {\"constant\", \"nearest\", \"reflect\" or \"wrap\"}. Default is 'nearest'. Points outside the boundaries of the input are filled according to the given mode:\n",
        "6. horizontal_flip: Boolean. Randomly flip inputs horizontally.\n",
        "7. vertical_flip: Boolean. Randomly flip inputs vertically.\n",
        "8. rescale: rescaling factor. Defaults to None. If None or 0, no rescaling is applied, otherwise we multiply the data by the value provided (after applying all other transformations)."
      ]
    },
    {
      "cell_type": "code",
      "metadata": {
        "id": "s_wrczR-sn0O",
        "colab_type": "code",
        "colab": {}
      },
      "source": [
        "# Shift images vertically or horizontally \n",
        "# Fill missing pixels with the color of the nearest pixel\n",
        "datagen = ImageDataGenerator(shear_range=0.1,zoom_range=0.1,fill_mode=\"nearest\",horizontal_flip=True,vertical_flip=True,rescale=0)\n",
        "\n",
        "# fit parameters from data\n",
        "datagen.fit(x_train)\n",
        "\n",
        "# Configure batch size and retrieve one batch of images\n",
        "for X_batch, y_batch in datagen.flow(x_train, y_train, batch_size=9):\n",
        "    # Show 9 images\n",
        "    for i in range(0, 9):\n",
        "        plt.subplot(330 + 1 + i)\n",
        "        plt.imshow(X_batch[i].reshape(img_rows, img_cols, 3))\n",
        "    # show the plot\n",
        "    plt.show()\n",
        "    break"
      ],
      "execution_count": 0,
      "outputs": []
    },
    {
      "cell_type": "markdown",
      "metadata": {
        "id": "E6TfKKBQw0oC",
        "colab_type": "text"
      },
      "source": [
        "#Saving Augmented Images to File\n",
        "\n",
        "The data preparation and augmentation is performed just in time by Keras.\n",
        "\n",
        "This is efficient in terms of memory, but you may require the exact images used during training. For example, perhaps you would like to use them with a different software package later or only generate them once and use them on multiple different deep learning models or configurations.\n",
        "\n",
        "Keras allows you to save the images generated during training. The directory, filename prefix and image file type can be specified to the flow() function before training. Then, during training, the generated images will be written to file.\n",
        "\n",
        "The example below demonstrates this and writes 9 images to a “images” subdirectory with the prefix “aug” and the file type of PNG."
      ]
    },
    {
      "cell_type": "code",
      "metadata": {
        "id": "1l_fOnXrw5-m",
        "colab_type": "code",
        "colab": {}
      },
      "source": [
        "# Save augmented images to file\n",
        "from keras.datasets import mnist\n",
        "from keras.preprocessing.image import ImageDataGenerator\n",
        "from matplotlib import pyplot\n",
        "import os\n",
        "# load data\n",
        "(X_train, y_train), (X_test, y_test) = mnist.load_data()\n",
        "# reshape to be [samples][width][height][channels]\n",
        "X_train = X_train.reshape((X_train.shape[0], 28, 28, 1))\n",
        "X_test = X_test.reshape((X_test.shape[0], 28, 28, 1))\n",
        "# convert from int to float\n",
        "X_train = X_train.astype('float32')\n",
        "X_test = X_test.astype('float32')\n",
        "# define data preparation\n",
        "datagen = ImageDataGenerator()\n",
        "# fit parameters from data\n",
        "datagen.fit(X_train)\n",
        "# configure batch size and retrieve one batch of images\n",
        "os.makedirs('images')\n",
        "for X_batch, y_batch in datagen.flow(X_train, y_train, batch_size=9, save_to_dir='images', save_prefix='aug', save_format='png'):\n",
        "\t# create a grid of 3x3 images\n",
        "\tfor i in range(0, 9):\n",
        "\t\tpyplot.subplot(330 + 1 + i)\n",
        "\t\tpyplot.imshow(X_batch[i].reshape(28, 28), cmap=pyplot.get_cmap('gray'))\n",
        "\t# show the plot\n",
        "\tpyplot.show()\n",
        "\tbreak"
      ],
      "execution_count": 0,
      "outputs": []
    },
    {
      "cell_type": "markdown",
      "metadata": {
        "id": "42e9b0PrxgF1",
        "colab_type": "text"
      },
      "source": [
        "#Examples\n",
        "\n",
        "Training models on augmented data on CIFAR 10"
      ]
    },
    {
      "cell_type": "code",
      "metadata": {
        "id": "w-z_MXkFtiyr",
        "colab_type": "code",
        "colab": {}
      },
      "source": [
        "from keras.utils.np_utils import to_categorical\n",
        "from keras import models\n",
        "from keras.datasets import cifar10\n",
        "from keras.layers import Dense, Dropout\n",
        "from keras.models import Sequential\n",
        "from keras.layers import Activation, Flatten, Conv2D\n",
        "from keras.utils import to_categorical\n",
        "from keras.datasets import mnist\n",
        "from keras.utils.vis_utils import model_to_dot\n",
        "from IPython.display import SVG\n",
        "from keras.preprocessing.image import ImageDataGenerator\n",
        "\n",
        "epochs=10\n",
        "\n",
        "#import dataset\n",
        "(X_train, y_train), (X_test, y_test) = cifar10.load_data()\n",
        "\n",
        "\n",
        "#preprocess\n",
        "X_train = X_train.astype('float32')\n",
        "X_test = X_test.astype('float32')\n",
        "X_train /= 255.0\n",
        "X_test /= 255.0\n",
        "\n",
        "#change labels from numeric to one hot encoded\n",
        "Y_train = to_categorical(y_train, 10)\n",
        "Y_test =  to_categorical(y_test, 10)\n",
        "\n",
        "\n",
        "\n",
        "model = Sequential()\n",
        "#We need to use a Conv2D layer at start of the neural network \n",
        "#the syntax is Conv2D(1, (image_width,image_height), padding=\"valid\", activation=\"relu\", input_shape=X_train.shape[1:])\n",
        "#the we add a flatten layer\n",
        "model.add(Conv2D(1024, (32, 32), padding=\"valid\", activation=\"relu\", input_shape=X_train.shape[1:]))\n",
        "model.add(Flatten())\n",
        "#then we continue with the neural network.\n",
        "model.add(Dense(1024))\n",
        "model.add(Activation('relu'))\n",
        "model.add(Dense(512))\n",
        "model.add(Activation('relu'))\n",
        "model.add(Dense(512))\n",
        "model.add(Activation('relu'))\n",
        "model.add(Dense(10))\n",
        "model.add(Activation('softmax'))\n",
        "\n",
        "model.compile(loss='categorical_crossentropy',\n",
        "                  optimizer='adam',\n",
        "                  metrics=['accuracy'])\n",
        "\n",
        "datagen = ImageDataGenerator(\n",
        "    featurewise_center=True,\n",
        "    featurewise_std_normalization=True,\n",
        "    rotation_range=20,\n",
        "    width_shift_range=0.2,\n",
        "    height_shift_range=0.2,\n",
        "    horizontal_flip=True)\n",
        "\n",
        "datagen.fit(X_train)\n",
        "\n",
        "# fits the model on batches with real-time data augmentation:\n",
        "model.fit_generator(datagen.flow(X_train, Y_train),epochs=epochs,verbose=1, validation_data=datagen.flow(X_test, Y_test))\n",
        "\n"
      ],
      "execution_count": 0,
      "outputs": []
    },
    {
      "cell_type": "markdown",
      "metadata": {
        "id": "axFE1hGEyadT",
        "colab_type": "text"
      },
      "source": [
        "#Thank you for completing this notebook"
      ]
    }
  ]
}