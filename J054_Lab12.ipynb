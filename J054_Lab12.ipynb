{
  "nbformat": 4,
  "nbformat_minor": 0,
  "metadata": {
    "colab": {
      "name": "J054_Lab12.ipynb",
      "provenance": [],
      "collapsed_sections": [
        "pAnNRC2ZGenJ"
      ],
      "include_colab_link": true
    },
    "kernelspec": {
      "name": "python3",
      "display_name": "Python 3"
    },
    "accelerator": "GPU"
  },
  "cells": [
    {
      "cell_type": "markdown",
      "metadata": {
        "id": "view-in-github",
        "colab_type": "text"
      },
      "source": [
        "<a href=\"https://colab.research.google.com/github/narayananv10/DeepLearning/blob/master/J054_Lab12.ipynb\" target=\"_parent\"><img src=\"https://colab.research.google.com/assets/colab-badge.svg\" alt=\"Open In Colab\"/></a>"
      ]
    },
    {
      "cell_type": "markdown",
      "metadata": {
        "id": "dE1dBb-IGelX",
        "colab_type": "text"
      },
      "source": [
        "# TensorFlow Tutorial\n",
        "\n",
        "Welcome to this week's programming assignment. Until now, you've always used numpy to build neural networks. Now we will step you through a deep learning framework that will allow you to build neural networks more easily. Machine learning frameworks like TensorFlow, PaddlePaddle, Torch, Caffe, Keras, and many others can speed up your machine learning development significantly. All of these frameworks also have a lot of documentation, which you should feel free to read. In this assignment, you will learn to do the following in TensorFlow: \n",
        "\n",
        "- Initialize variables\n",
        "- Start your own session\n",
        "- Train algorithms \n",
        "- Implement a Neural Network\n",
        "\n",
        "Programing frameworks can not only shorten your coding time, but sometimes also perform optimizations that speed up your code. \n",
        "\n",
        "## 1 - Exploring the Tensorflow Library\n",
        "\n",
        "To start, you will import the library:\n"
      ]
    },
    {
      "cell_type": "code",
      "metadata": {
        "id": "w_vuEnArGela",
        "colab_type": "code",
        "outputId": "558006a0-cd98-423f-e9ee-424ea0049a59",
        "colab": {
          "base_uri": "https://localhost:8080/",
          "height": 63
        }
      },
      "source": [
        "import math\n",
        "import numpy as np\n",
        "import h5py\n",
        "import matplotlib.pyplot as plt\n",
        "import tensorflow as tf\n",
        "\n",
        "\n",
        "\n",
        "%matplotlib inline\n",
        "np.random.seed(1)"
      ],
      "execution_count": 0,
      "outputs": [
        {
          "output_type": "display_data",
          "data": {
            "text/html": [
              "<p style=\"color: red;\">\n",
              "The default version of TensorFlow in Colab will soon switch to TensorFlow 2.x.<br>\n",
              "We recommend you <a href=\"https://www.tensorflow.org/guide/migrate\" target=\"_blank\">upgrade</a> now \n",
              "or ensure your notebook will continue to use TensorFlow 1.x via the <code>%tensorflow_version 1.x</code> magic:\n",
              "<a href=\"https://colab.research.google.com/notebooks/tensorflow_version.ipynb\" target=\"_blank\">more info</a>.</p>\n"
            ],
            "text/plain": [
              "<IPython.core.display.HTML object>"
            ]
          },
          "metadata": {
            "tags": []
          }
        }
      ]
    },
    {
      "cell_type": "code",
      "metadata": {
        "id": "sicuT-YRfU-h",
        "colab_type": "code",
        "colab": {}
      },
      "source": [
        "from tensorflow.python.framework import ops"
      ],
      "execution_count": 0,
      "outputs": []
    },
    {
      "cell_type": "code",
      "metadata": {
        "id": "9OPzLKQlMcAV",
        "colab_type": "code",
        "colab": {}
      },
      "source": [
        "import h5py\n",
        "import numpy as np\n",
        "import tensorflow as tf\n",
        "import math\n",
        "\n",
        "def load_dataset():\n",
        "    !wget  http://upscfever.com/upsc-fever/en/data/deeplearning2/images/train_signs.h5  -P drive/app\n",
        "    train_dataset = h5py.File(\"drive/app/train_signs.h5\", \"r\")   \n",
        "    train_set_x_orig = np.array(train_dataset[\"train_set_x\"][:]) # your train set features\n",
        "    train_set_y_orig = np.array(train_dataset[\"train_set_y\"][:]) # your train set labels\n",
        "\n",
        "    !wget  http://upscfever.com/upsc-fever/en/data/deeplearning2/images/test_signs.h5  -P drive/app\n",
        "    test_dataset = h5py.File(\"drive/app/test_signs.h5\", \"r\")\n",
        "    test_set_x_orig = np.array(test_dataset[\"test_set_x\"][:]) # your test set features\n",
        "    test_set_y_orig = np.array(test_dataset[\"test_set_y\"][:]) # your test set labels\n",
        "\n",
        "\n",
        "    classes = np.array(test_dataset[\"list_classes\"][:]) # the list of classes\n",
        "    \n",
        "    train_set_y_orig = train_set_y_orig.reshape((1, train_set_y_orig.shape[0]))\n",
        "    test_set_y_orig = test_set_y_orig.reshape((1, test_set_y_orig.shape[0]))\n",
        "    \n",
        "    return train_set_x_orig, train_set_y_orig, test_set_x_orig, test_set_y_orig, classes\n",
        "\n",
        "\n",
        "def random_mini_batches(X, Y, mini_batch_size = 64, seed = 0):\n",
        "    \"\"\"\n",
        "    Creates a list of random minibatches from (X, Y)\n",
        "    \n",
        "    Arguments:\n",
        "    X -- input data, of shape (input size, number of examples)\n",
        "    Y -- true \"label\" vector (containing 0 if cat, 1 if non-cat), of shape (1, number of examples)\n",
        "    mini_batch_size - size of the mini-batches, integer\n",
        "    seed -- this is only for the purpose of grading, so that you're \"random minibatches are the same as ours.\n",
        "    \n",
        "    Returns:\n",
        "    mini_batches -- list of synchronous (mini_batch_X, mini_batch_Y)\n",
        "    \"\"\"\n",
        "    \n",
        "    m = X.shape[1]                  # number of training examples\n",
        "    mini_batches = []\n",
        "    np.random.seed(seed)\n",
        "    \n",
        "    # Step 1: Shuffle (X, Y)\n",
        "    permutation = list(np.random.permutation(m))\n",
        "    shuffled_X = X[:, permutation]\n",
        "    shuffled_Y = Y[:, permutation].reshape((Y.shape[0],m))\n",
        "\n",
        "    # Step 2: Partition (shuffled_X, shuffled_Y). Minus the end case.\n",
        "    num_complete_minibatches = math.floor(m/mini_batch_size) # number of mini batches of size mini_batch_size in your partitionning\n",
        "    for k in range(0, num_complete_minibatches):\n",
        "        mini_batch_X = shuffled_X[:, k * mini_batch_size : k * mini_batch_size + mini_batch_size]\n",
        "        mini_batch_Y = shuffled_Y[:, k * mini_batch_size : k * mini_batch_size + mini_batch_size]\n",
        "        mini_batch = (mini_batch_X, mini_batch_Y)\n",
        "        mini_batches.append(mini_batch)\n",
        "    \n",
        "    # Handling the end case (last mini-batch < mini_batch_size)\n",
        "    if m % mini_batch_size != 0:\n",
        "        mini_batch_X = shuffled_X[:, num_complete_minibatches * mini_batch_size : m]\n",
        "        mini_batch_Y = shuffled_Y[:, num_complete_minibatches * mini_batch_size : m]\n",
        "        mini_batch = (mini_batch_X, mini_batch_Y)\n",
        "        mini_batches.append(mini_batch)\n",
        "    \n",
        "    return mini_batches\n",
        "\n",
        "def convert_to_one_hot(Y, C):\n",
        "    Y = np.eye(C)[Y.reshape(-1)].T\n",
        "    return Y\n",
        "\n",
        "\n",
        "def predict(X, parameters):\n",
        "    \n",
        "    W1 = tf.convert_to_tensor(parameters[\"W1\"])\n",
        "    b1 = tf.convert_to_tensor(parameters[\"b1\"])\n",
        "    W2 = tf.convert_to_tensor(parameters[\"W2\"])\n",
        "    b2 = tf.convert_to_tensor(parameters[\"b2\"])\n",
        "    W3 = tf.convert_to_tensor(parameters[\"W3\"])\n",
        "    b3 = tf.convert_to_tensor(parameters[\"b3\"])\n",
        "    \n",
        "    params = {\"W1\": W1,\n",
        "              \"b1\": b1,\n",
        "              \"W2\": W2,\n",
        "              \"b2\": b2,\n",
        "              \"W3\": W3,\n",
        "              \"b3\": b3}\n",
        "    \n",
        "    x = tf.placeholder(\"float\", [12288, 1])\n",
        "    \n",
        "    z3 = forward_propagation_for_predict(x, params)\n",
        "    p = tf.argmax(z3)\n",
        "    \n",
        "    sess = tf.Session()\n",
        "    prediction = sess.run(p, feed_dict = {x: X})\n",
        "        \n",
        "    return prediction\n",
        "\n",
        "def forward_propagation_for_predict(X, parameters):\n",
        "    \"\"\"\n",
        "    Implements the forward propagation for the model: LINEAR -> RELU -> LINEAR -> RELU -> LINEAR -> SOFTMAX\n",
        "    \n",
        "    Arguments:\n",
        "    X -- input dataset placeholder, of shape (input size, number of examples)\n",
        "    parameters -- python dictionary containing your parameters \"W1\", \"b1\", \"W2\", \"b2\", \"W3\", \"b3\"\n",
        "                  the shapes are given in initialize_parameters\n",
        "    Returns:\n",
        "    Z3 -- the output of the last LINEAR unit\n",
        "    \"\"\"\n",
        "    \n",
        "    # Retrieve the parameters from the dictionary \"parameters\" \n",
        "    W1 = parameters['W1']\n",
        "    b1 = parameters['b1']\n",
        "    W2 = parameters['W2']\n",
        "    b2 = parameters['b2']\n",
        "    W3 = parameters['W3']\n",
        "    b3 = parameters['b3'] \n",
        "                                                           # Numpy Equivalents:\n",
        "    Z1 = tf.add(tf.matmul(W1, X), b1)                      # Z1 = np.dot(W1, X) + b1\n",
        "    A1 = tf.nn.relu(Z1)                                    # A1 = relu(Z1)\n",
        "    Z2 = tf.add(tf.matmul(W2, A1), b2)                     # Z2 = np.dot(W2, a1) + b2\n",
        "    A2 = tf.nn.relu(Z2)                                    # A2 = relu(Z2)\n",
        "    Z3 = tf.add(tf.matmul(W3, A2), b3)                     # Z3 = np.dot(W3,Z2) + b3\n",
        "    \n",
        "    return Z3"
      ],
      "execution_count": 0,
      "outputs": []
    },
    {
      "cell_type": "markdown",
      "metadata": {
        "id": "2PzybCNBGelf",
        "colab_type": "text"
      },
      "source": [
        "Now that you have imported the library, we will walk you through its different applications. You will start with an example, where we compute for you the loss of one training example. \n",
        "$$loss = \\mathcal{L}(\\hat{y}, y) = (\\hat y^{(i)} - y^{(i)})^2 \\tag{1}$$"
      ]
    },
    {
      "cell_type": "code",
      "metadata": {
        "id": "0U1mTCkeGelh",
        "colab_type": "code",
        "outputId": "c822f475-7a65-451a-d35c-b044c0b31080",
        "colab": {
          "base_uri": "https://localhost:8080/",
          "height": 34
        }
      },
      "source": [
        "y_hat = tf.constant(36, name='y_hat')            # Define y_hat constant. Set to 36.\n",
        "y = tf.constant(39, name='y')                    # Define y. Set to 39\n",
        "\n",
        "loss = tf.Variable((y - y_hat)**2, name='loss')  # Create a variable for the loss\n",
        "\n",
        "init = tf.global_variables_initializer()         # When init is run later (session.run(init)),\n",
        "                                                 # the loss variable will be initialized and ready to be computed\n",
        "with tf.Session() as session:                    # Create a session and print the output\n",
        "    session.run(init)                            # Initializes the variables\n",
        "    print(session.run(loss))                     # Prints the loss"
      ],
      "execution_count": 0,
      "outputs": [
        {
          "output_type": "stream",
          "text": [
            "9\n"
          ],
          "name": "stdout"
        }
      ]
    },
    {
      "cell_type": "markdown",
      "metadata": {
        "id": "HwmrBmlOGelq",
        "colab_type": "text"
      },
      "source": [
        "Writing and running programs in TensorFlow has the following steps:\n",
        "\n",
        "1. Create Tensors (variables) that are not yet executed/evaluated. \n",
        "2. Write operations between those Tensors.\n",
        "3. Initialize your Tensors. \n",
        "4. Create a Session. \n",
        "5. Run the Session. This will run the operations you'd written above. \n",
        "\n",
        "Therefore, when we created a variable for the loss, we simply defined the loss as a function of other quantities, but did not evaluate its value. To evaluate it, we had to run `init=tf.global_variables_initializer()`. That initialized the loss variable, and in the last line we were finally able to evaluate the value of `loss` and print its value.\n",
        "\n",
        "Now let us look at an easy example. Run the cell below:"
      ]
    },
    {
      "cell_type": "code",
      "metadata": {
        "id": "RzaznZ4iGelr",
        "colab_type": "code",
        "outputId": "33721f50-8f54-4b7c-da0c-7d104ea35c48",
        "colab": {
          "base_uri": "https://localhost:8080/",
          "height": 34
        }
      },
      "source": [
        "a = tf.constant(2)\n",
        "b = tf.constant(10)\n",
        "c = tf.multiply(a,b)\n",
        "print(c)"
      ],
      "execution_count": 0,
      "outputs": [
        {
          "output_type": "stream",
          "text": [
            "Tensor(\"Mul:0\", shape=(), dtype=int32)\n"
          ],
          "name": "stdout"
        }
      ]
    },
    {
      "cell_type": "markdown",
      "metadata": {
        "id": "T9zUXheAGelv",
        "colab_type": "text"
      },
      "source": [
        "As expected, you will not see 20! You got a tensor saying that the result is a tensor that does not have the shape attribute, and is of type \"int32\". All you did was put in the 'computation graph', but you have not run this computation yet. In order to actually multiply the two numbers, you will have to create a session and run it."
      ]
    },
    {
      "cell_type": "code",
      "metadata": {
        "id": "6oozv4NiGelw",
        "colab_type": "code",
        "outputId": "d53f05e6-0cb7-41bf-bf6d-0999197054fb",
        "colab": {
          "base_uri": "https://localhost:8080/",
          "height": 34
        }
      },
      "source": [
        "sess = tf.Session()\n",
        "print(sess.run(c))"
      ],
      "execution_count": 0,
      "outputs": [
        {
          "output_type": "stream",
          "text": [
            "20\n"
          ],
          "name": "stdout"
        }
      ]
    },
    {
      "cell_type": "markdown",
      "metadata": {
        "id": "0MrsqAIMGel0",
        "colab_type": "text"
      },
      "source": [
        "Great! To summarize, **remember to initialize your variables, create a session and run the operations inside the session**. \n",
        "\n",
        "Next, you'll also have to know about placeholders. A placeholder is an object whose value you can specify only later. \n",
        "To specify values for a placeholder, you can pass in values by using a \"feed dictionary\" (`feed_dict` variable). Below, we created a placeholder for x. This allows us to pass in a number later when we run the session. "
      ]
    },
    {
      "cell_type": "code",
      "metadata": {
        "id": "lIj15JjcGel1",
        "colab_type": "code",
        "outputId": "d778e88c-9765-4b02-b854-e096807c109d",
        "colab": {
          "base_uri": "https://localhost:8080/",
          "height": 34
        }
      },
      "source": [
        "# Change the value of x in the feed_dict\n",
        "\n",
        "x = tf.placeholder(tf.int64, name = 'x')\n",
        "print(sess.run(2 * x, feed_dict = {x: 3}))\n",
        "sess.close()"
      ],
      "execution_count": 0,
      "outputs": [
        {
          "output_type": "stream",
          "text": [
            "6\n"
          ],
          "name": "stdout"
        }
      ]
    },
    {
      "cell_type": "markdown",
      "metadata": {
        "id": "KgaNbBwbGel5",
        "colab_type": "text"
      },
      "source": [
        "When you first defined `x` you did not have to specify a value for it. A placeholder is simply a variable that you will assign data to only later, when running the session. We say that you **feed data** to these placeholders when running the session. \n",
        "\n",
        "Here's what's happening: When you specify the operations needed for a computation, you are telling TensorFlow how to construct a computation graph. The computation graph can have some placeholders whose values you will specify only later. Finally, when you run the session, you are telling TensorFlow to execute the computation graph."
      ]
    },
    {
      "cell_type": "markdown",
      "metadata": {
        "id": "KEutT1SEGel6",
        "colab_type": "text"
      },
      "source": [
        "### 1.1 - Linear function\n",
        "\n",
        "Lets start this programming exercise by computing the following equation: $Y = WX + b$, where $W$ and $X$ are random matrices and b is a random vector. \n",
        "\n",
        "**Exercise**: Compute $WX + b$ where $W, X$, and $b$ are drawn from a random normal distribution. W is of shape (4, 3), X is (3,1) and b is (4,1). As an example, here is how you would define a constant X that has shape (3,1):\n",
        "```python\n",
        "X = tf.constant(np.random.randn(3,1), name = \"X\")\n",
        "\n",
        "```\n",
        "You might find the following functions helpful: \n",
        "- tf.matmul(..., ...) to do a matrix multiplication\n",
        "- tf.add(..., ...) to do an addition\n",
        "- np.random.randn(...) to initialize randomly\n"
      ]
    },
    {
      "cell_type": "code",
      "metadata": {
        "id": "F7avG22iGel7",
        "colab_type": "code",
        "colab": {}
      },
      "source": [
        "# GRADED FUNCTION: linear_function\n",
        "\n",
        "def linear_function():\n",
        "    \"\"\"\n",
        "    Implements a linear function: \n",
        "            Initializes W to be a random tensor of shape (4,3)\n",
        "            Initializes X to be a random tensor of shape (3,1)\n",
        "            Initializes b to be a random tensor of shape (4,1)\n",
        "    Returns: \n",
        "    result -- runs the session for Y = WX + b \n",
        "    \"\"\"\n",
        "    \n",
        "    np.random.seed(1)\n",
        "    \n",
        "    ### START CODE HERE ### (4 lines of code)\n",
        "    X = tf.constant(np.random.randn(3,1), name = \"X\")\n",
        "    W = tf.constant(np.random.randn(4,3), name = \"W\")\n",
        "    b = tf.constant(np.random.randn(4,1), name = \"b\")\n",
        "    Y = tf.add(tf.matmul(W,X),b)\n",
        "    ### END CODE HERE ### \n",
        "    \n",
        "    # Create the session using tf.Session() and run it with sess.run(...) on the variable you want to calculate\n",
        "    \n",
        "    ### START CODE HERE ###\n",
        "    sess = tf.Session()\n",
        "    result = sess.run(Y)\n",
        "    ### END CODE HERE ### \n",
        "    \n",
        "    # close the session \n",
        "    sess.close()\n",
        "\n",
        "    return result"
      ],
      "execution_count": 0,
      "outputs": []
    },
    {
      "cell_type": "code",
      "metadata": {
        "id": "FIrTcZ5EGel_",
        "colab_type": "code",
        "outputId": "46977744-cc9c-4bde-ae2f-5019146a878e",
        "colab": {
          "base_uri": "https://localhost:8080/",
          "height": 85
        }
      },
      "source": [
        "print( \"result = \" + str(linear_function()))"
      ],
      "execution_count": 0,
      "outputs": [
        {
          "output_type": "stream",
          "text": [
            "result = [[-2.15657382]\n",
            " [ 2.95891446]\n",
            " [-1.08926781]\n",
            " [-0.84538042]]\n"
          ],
          "name": "stdout"
        }
      ]
    },
    {
      "cell_type": "markdown",
      "metadata": {
        "id": "T_uCEmQwGemD",
        "colab_type": "text"
      },
      "source": [
        "*** Expected Output ***: \n",
        "\n",
        "<table> \n",
        "<tr> \n",
        "<td>\n",
        "**result**\n",
        "</td>\n",
        "<td>\n",
        "[[-2.15657382]\n",
        " [ 2.95891446]\n",
        " [-1.08926781]\n",
        " [-0.84538042]]\n",
        "</td>\n",
        "</tr> \n",
        "\n",
        "</table> "
      ]
    },
    {
      "cell_type": "markdown",
      "metadata": {
        "id": "GqIywc8mGemE",
        "colab_type": "text"
      },
      "source": [
        "### 1.2 - Computing the sigmoid \n",
        "Great! You just implemented a linear function. Tensorflow offers a variety of commonly used neural network functions like `tf.sigmoid` and `tf.softmax`. For this exercise lets compute the sigmoid function of an input. \n",
        "\n",
        "You will do this exercise using a placeholder variable `x`. When running the session, you should use the feed dictionary to pass in the input `z`. In this exercise, you will have to (i) create a placeholder `x`, (ii) define the operations needed to compute the sigmoid using `tf.sigmoid`, and then (iii) run the session. \n",
        "\n",
        "** Exercise **: Implement the sigmoid function below. You should use the following: \n",
        "\n",
        "- `tf.placeholder(tf.float32, name = \"...\")`\n",
        "- `tf.sigmoid(...)`\n",
        "- `sess.run(..., feed_dict = {x: z})`\n",
        "\n",
        "\n",
        "Note that there are two typical ways to create and use sessions in tensorflow: \n",
        "\n",
        "**Method 1:**\n",
        "```python\n",
        "sess = tf.Session()\n",
        "# Run the variables initialization (if needed), run the operations\n",
        "result = sess.run(..., feed_dict = {...})\n",
        "sess.close() # Close the session\n",
        "```\n",
        "**Method 2:**\n",
        "```python\n",
        "with tf.Session() as sess: \n",
        "    # run the variables initialization (if needed), run the operations\n",
        "    result = sess.run(..., feed_dict = {...})\n",
        "    # This takes care of closing the session for you :)\n",
        "```\n"
      ]
    },
    {
      "cell_type": "code",
      "metadata": {
        "id": "81tcPLQ7GemE",
        "colab_type": "code",
        "colab": {}
      },
      "source": [
        "# GRADED FUNCTION: sigmoid\n",
        "\n",
        "def sigmoid(z):\n",
        "    \"\"\"\n",
        "    Computes the sigmoid of z\n",
        "    \n",
        "    Arguments:\n",
        "    z -- input value, scalar or vector\n",
        "    \n",
        "    Returns: \n",
        "    results -- the sigmoid of z\n",
        "    \"\"\"\n",
        "    \n",
        "    ### START CODE HERE ### ( approx. 4 lines of code)\n",
        "    # Create a placeholder for x. Name it 'x'.\n",
        "    x = tf.placeholder(tf.float32, name = \"x\")\n",
        "\n",
        "    # compute sigmoid(x)\n",
        "    sigmoid = tf.sigmoid(x)\n",
        "\n",
        "    # Create a session, and run it. Please use the method 2 explained above. \n",
        "    # You should use a feed_dict to pass z's value to x. \n",
        "    with tf.Session() as sess: \n",
        "        # Run session and call the output \"result\"\n",
        "         result = sess.run(sigmoid, feed_dict = {x:z})\n",
        "    \n",
        "    ### END CODE HERE ###\n",
        "    \n",
        "    return result"
      ],
      "execution_count": 0,
      "outputs": []
    },
    {
      "cell_type": "code",
      "metadata": {
        "id": "ePy4vYcTGemH",
        "colab_type": "code",
        "outputId": "0230d59d-212d-4d7f-9398-59e17cd1006e",
        "colab": {
          "base_uri": "https://localhost:8080/",
          "height": 51
        }
      },
      "source": [
        "print (\"sigmoid(0) = \" + str(sigmoid(0)))\n",
        "print (\"sigmoid(12) = \" + str(sigmoid(12)))"
      ],
      "execution_count": 0,
      "outputs": [
        {
          "output_type": "stream",
          "text": [
            "sigmoid(0) = 0.5\n",
            "sigmoid(12) = 0.9999938\n"
          ],
          "name": "stdout"
        }
      ]
    },
    {
      "cell_type": "markdown",
      "metadata": {
        "id": "cDqDH_mmGemK",
        "colab_type": "text"
      },
      "source": [
        "*** Expected Output ***: \n",
        "\n",
        "<table> \n",
        "<tr> \n",
        "<td>\n",
        "**sigmoid(0)**\n",
        "</td>\n",
        "<td>\n",
        "0.5\n",
        "</td>\n",
        "</tr>\n",
        "<tr> \n",
        "<td>\n",
        "**sigmoid(12)**\n",
        "</td>\n",
        "<td>\n",
        "0.999994\n",
        "</td>\n",
        "</tr> \n",
        "\n",
        "</table> "
      ]
    },
    {
      "cell_type": "markdown",
      "metadata": {
        "id": "iJdmTrsQGemL",
        "colab_type": "text"
      },
      "source": [
        "<font color='blue'>\n",
        "**To summarize, you how know how to**:\n",
        "1. Create placeholders\n",
        "2. Specify the computation graph corresponding to operations you want to compute\n",
        "3. Create the session\n",
        "4. Run the session, using a feed dictionary if necessary to specify placeholder variables' values. "
      ]
    },
    {
      "cell_type": "markdown",
      "metadata": {
        "id": "d6w6PjlvGemL",
        "colab_type": "text"
      },
      "source": [
        "### 1.3 -  Computing the Cost\n",
        "\n",
        "You can also use a built-in function to compute the cost of your neural network. So instead of needing to write code to compute this as a function of $a^{[2](i)}$ and $y^{(i)}$ for i=1...m: \n",
        "$$ J = - \\frac{1}{m}  \\sum_{i = 1}^m  \\large ( \\small y^{(i)} \\log a^{ [2] (i)} + (1-y^{(i)})\\log (1-a^{ [2] (i)} )\\large )\\small\\tag{2}$$\n",
        "\n",
        "you can do it in one line of code in tensorflow!\n",
        "\n",
        "**Exercise**: Implement the cross entropy loss. The function you will use is: \n",
        "\n",
        "\n",
        "- `tf.nn.sigmoid_cross_entropy_with_logits(logits = ...,  labels = ...)`\n",
        "\n",
        "Your code should input `z`, compute the sigmoid (to get `a`) and then compute the cross entropy cost $J$. All this can be done using one call to `tf.nn.sigmoid_cross_entropy_with_logits`, which computes\n",
        "\n",
        "$$- \\frac{1}{m}  \\sum_{i = 1}^m  \\large ( \\small y^{(i)} \\log \\sigma(z^{[2](i)}) + (1-y^{(i)})\\log (1-\\sigma(z^{[2](i)})\\large )\\small\\tag{2}$$\n",
        "\n"
      ]
    },
    {
      "cell_type": "code",
      "metadata": {
        "id": "zgTJTHMUGemM",
        "colab_type": "code",
        "colab": {}
      },
      "source": [
        "# GRADED FUNCTION: cost\n",
        "\n",
        "def cost(logits, labels):\n",
        "    \"\"\"\n",
        "    Computes the cost using the sigmoid cross entropy\n",
        "    \n",
        "    Arguments:\n",
        "    logits -- vector containing z, output of the last linear unit (before the final sigmoid activation)\n",
        "    labels -- vector of labels y (1 or 0) \n",
        "    \n",
        "    Note: What we've been calling \"z\" and \"y\" in this class are respectively called \"logits\" and \"labels\" \n",
        "    in the TensorFlow documentation. So logits will feed into z, and labels into y. \n",
        "    \n",
        "    Returns:\n",
        "    cost -- runs the session of the cost (formula (2))\n",
        "    \"\"\"\n",
        "    \n",
        "    ### START CODE HERE ### \n",
        "    \n",
        "    # Create the placeholders for \"logits\" (z) and \"labels\" (y) (approx. 2 lines)\n",
        "    z = tf.placeholder(tf.float32, name = \"z\")\n",
        "    y = tf.placeholder(tf.float32, name = \"y\")\n",
        "    \n",
        "    # Use the loss function (approx. 1 line)\n",
        "    cost = tf.nn.sigmoid_cross_entropy_with_logits(logits = z,  labels = y)\n",
        "    \n",
        "    # Create a session (approx. 1 line). See method 1 above.\n",
        "    sess = tf.Session()\n",
        "    \n",
        "    # Run the session (approx. 1 line).\n",
        "    cost = sess.run(cost, feed_dict = {z: logits, y: labels})\n",
        "    \n",
        "    # Close the session (approx. 1 line). See method 1 above.\n",
        "    sess.close()\n",
        "\n",
        "    ### END CODE HERE ###\n",
        "    \n",
        "    return cost"
      ],
      "execution_count": 0,
      "outputs": []
    },
    {
      "cell_type": "code",
      "metadata": {
        "id": "6repZqX9GemP",
        "colab_type": "code",
        "outputId": "5b7f1043-5f1a-4c64-cdb2-fb191d706179",
        "colab": {
          "base_uri": "https://localhost:8080/",
          "height": 105
        }
      },
      "source": [
        "logits = sigmoid(np.array([0.2,0.4,0.7,0.9]))\n",
        "cost = cost(logits, np.array([0,0,1,1]))\n",
        "print (\"cost = \" + str(cost))"
      ],
      "execution_count": 0,
      "outputs": [
        {
          "output_type": "stream",
          "text": [
            "WARNING:tensorflow:From /usr/local/lib/python3.6/dist-packages/tensorflow_core/python/ops/nn_impl.py:183: where (from tensorflow.python.ops.array_ops) is deprecated and will be removed in a future version.\n",
            "Instructions for updating:\n",
            "Use tf.where in 2.0, which has the same broadcast rule as np.where\n",
            "cost = [1.0053872  1.0366409  0.41385433 0.39956614]\n"
          ],
          "name": "stdout"
        }
      ]
    },
    {
      "cell_type": "markdown",
      "metadata": {
        "id": "P8FvMB7OGemS",
        "colab_type": "text"
      },
      "source": [
        "** Expected Output** : \n",
        "\n",
        "<table> \n",
        "    <tr> \n",
        "        <td>\n",
        "            **cost**\n",
        "        </td>\n",
        "        <td>\n",
        "        [ 1.00538719  1.03664088  0.41385433  0.39956614]\n",
        "        </td>\n",
        "    </tr>\n",
        "\n",
        "</table>"
      ]
    },
    {
      "cell_type": "markdown",
      "metadata": {
        "id": "0zEMZHMSGemU",
        "colab_type": "text"
      },
      "source": [
        "### 1.4 - Using One Hot encodings\n",
        "\n",
        "Many times in deep learning you will have a y vector with numbers ranging from 0 to C-1, where C is the number of classes. If C is for example 4, then you might have the following y vector which you will need to convert as follows:\n",
        "\n",
        "\n",
        "<img src=\"http://upscfever.com/upsc-fever/en/data/deeplearning2/images/onehot.png\" style=\"width:600px;height:150px;\">\n",
        "\n",
        "This is called a \"one hot\" encoding, because in the converted representation exactly one element of each column is \"hot\" (meaning set to 1). To do this conversion in numpy, you might have to write a few lines of code. In tensorflow, you can use one line of code: \n",
        "\n",
        "- tf.one_hot(labels, depth, axis) \n",
        "\n",
        "**Exercise:** Implement the function below to take one vector of labels and the total number of classes $C$, and return the one hot encoding. Use `tf.one_hot()` to do this. "
      ]
    },
    {
      "cell_type": "code",
      "metadata": {
        "id": "9uogBEcDGemV",
        "colab_type": "code",
        "colab": {}
      },
      "source": [
        "# GRADED FUNCTION: one_hot_matrix\n",
        "\n",
        "def one_hot_matrix(labels, C):\n",
        "    \"\"\"\n",
        "    Creates a matrix where the i-th row corresponds to the ith class number and the jth column\n",
        "                     corresponds to the jth training example. So if example j had a label i. Then entry (i,j) \n",
        "                     will be 1. \n",
        "                     \n",
        "    Arguments:\n",
        "    labels -- vector containing the labels \n",
        "    C -- number of classes, the depth of the one hot dimension\n",
        "    \n",
        "    Returns: \n",
        "    one_hot -- one hot matrix\n",
        "    \"\"\"\n",
        "    \n",
        "    ### START CODE HERE ###\n",
        "    \n",
        "    # Create a tf.constant equal to C (depth), name it 'C'. (approx. 1 line)\n",
        "    C = tf.constant(C,name=\"C\")\n",
        "    \n",
        "    # Use tf.one_hot, be careful with the axis (approx. 1 line)\n",
        "    one_hot_matrix = tf.one_hot(indices=labels, depth=C, axis=0)\n",
        "    \n",
        "    # Create the session (approx. 1 line)\n",
        "    sess = tf.Session()\n",
        "    \n",
        "    # Run the session (approx. 1 line)\n",
        "    one_hot = sess.run(one_hot_matrix)\n",
        "    \n",
        "    # Close the session (approx. 1 line). See method 1 above.\n",
        "    sess.close() \n",
        "    \n",
        "    ### END CODE HERE ###\n",
        "    \n",
        "    return one_hot"
      ],
      "execution_count": 0,
      "outputs": []
    },
    {
      "cell_type": "code",
      "metadata": {
        "id": "Er2-G6YAGemZ",
        "colab_type": "code",
        "outputId": "d3b10f5a-6c2d-47ff-9b90-25035aae74f3",
        "colab": {
          "base_uri": "https://localhost:8080/",
          "height": 85
        }
      },
      "source": [
        "labels = np.array([1,2,3,0,2,1])\n",
        "one_hot = one_hot_matrix(labels, C = 4)\n",
        "print (\"one_hot = \" + str(one_hot))"
      ],
      "execution_count": 0,
      "outputs": [
        {
          "output_type": "stream",
          "text": [
            "one_hot = [[0. 0. 0. 1. 0. 0.]\n",
            " [1. 0. 0. 0. 0. 1.]\n",
            " [0. 1. 0. 0. 1. 0.]\n",
            " [0. 0. 1. 0. 0. 0.]]\n"
          ],
          "name": "stdout"
        }
      ]
    },
    {
      "cell_type": "markdown",
      "metadata": {
        "id": "3Y536cPFGemc",
        "colab_type": "text"
      },
      "source": [
        "**Expected Output**: \n",
        "\n",
        "<table> \n",
        "    <tr> \n",
        "        <td>\n",
        "            **one_hot**\n",
        "        </td>\n",
        "        <td>\n",
        "        [[ 0.  0.  0.  1.  0.  0.]\n",
        " [ 1.  0.  0.  0.  0.  1.]\n",
        " [ 0.  1.  0.  0.  1.  0.]\n",
        " [ 0.  0.  1.  0.  0.  0.]]\n",
        "        </td>\n",
        "    </tr>\n",
        "\n",
        "</table>\n"
      ]
    },
    {
      "cell_type": "markdown",
      "metadata": {
        "id": "nlpY2LI1Gemc",
        "colab_type": "text"
      },
      "source": [
        "### 1.5 - Initialize with zeros and ones\n",
        "\n",
        "Now you will learn how to initialize a vector of zeros and ones. The function you will be calling is `tf.ones()`. To initialize with zeros you could use tf.zeros() instead. These functions take in a shape and return an array of dimension shape full of zeros and ones respectively. \n",
        "\n",
        "**Exercise:** Implement the function below to take in a shape and to return an array (of the shape's dimension of ones). \n",
        "\n",
        " - tf.ones(shape)\n"
      ]
    },
    {
      "cell_type": "code",
      "metadata": {
        "id": "GerkBRy2Geme",
        "colab_type": "code",
        "colab": {}
      },
      "source": [
        "# GRADED FUNCTION: ones\n",
        "\n",
        "def ones(shape):\n",
        "    \"\"\"\n",
        "    Creates an array of ones of dimension shape\n",
        "    \n",
        "    Arguments:\n",
        "    shape -- shape of the array you want to create\n",
        "        \n",
        "    Returns: \n",
        "    ones -- array containing only ones\n",
        "    \"\"\"\n",
        "    \n",
        "    ### START CODE HERE ###\n",
        "    \n",
        "    # Create \"ones\" tensor using tf.ones(...). (approx. 1 line)\n",
        "    ones = tf.ones(shape)\n",
        "    \n",
        "    # Create the session (approx. 1 line)\n",
        "    sess = tf.Session()\n",
        "    \n",
        "    # Run the session to compute 'ones' (approx. 1 line)\n",
        "    ones = sess.run(ones)\n",
        "    \n",
        "    # Close the session (approx. 1 line). See method 1 above.\n",
        "    sess.close()\n",
        "    \n",
        "    ### END CODE HERE ###\n",
        "    return ones"
      ],
      "execution_count": 0,
      "outputs": []
    },
    {
      "cell_type": "code",
      "metadata": {
        "id": "5UVXueDKGemg",
        "colab_type": "code",
        "outputId": "12b32aba-5eaf-4c07-9674-6eee2ca8778b",
        "colab": {
          "base_uri": "https://localhost:8080/",
          "height": 34
        }
      },
      "source": [
        "print (\"ones = \" + str(ones([3])))"
      ],
      "execution_count": 0,
      "outputs": [
        {
          "output_type": "stream",
          "text": [
            "ones = [1. 1. 1.]\n"
          ],
          "name": "stdout"
        }
      ]
    },
    {
      "cell_type": "markdown",
      "metadata": {
        "id": "iP_2yZngGemp",
        "colab_type": "text"
      },
      "source": [
        "**Expected Output:**\n",
        "\n",
        "<table> \n",
        "    <tr> \n",
        "        <td>\n",
        "            **ones**\n",
        "        </td>\n",
        "        <td>\n",
        "        [ 1.  1.  1.]\n",
        "        </td>\n",
        "    </tr>\n",
        "\n",
        "</table>"
      ]
    },
    {
      "cell_type": "markdown",
      "metadata": {
        "id": "aPH-rRtWGemp",
        "colab_type": "text"
      },
      "source": [
        "# 2 - Building your first neural network in tensorflow\n",
        "\n",
        "In this part of the assignment you will build a neural network using tensorflow. Remember that there are two parts to implement a tensorflow model:\n",
        "\n",
        "- Create the computation graph\n",
        "- Run the graph\n",
        "\n",
        "Let's delve into the problem you'd like to solve!\n",
        "\n",
        "### 2.0 - Problem statement: SIGNS Dataset\n",
        "\n",
        "One afternoon, with some friends we decided to teach our computers to decipher sign language. We spent a few hours taking pictures in front of a white wall and came up with the following dataset. It's now your job to build an algorithm that would facilitate communications from a speech-impaired person to someone who doesn't understand sign language.\n",
        "\n",
        "- **Training set**: 1080 pictures (64 by 64 pixels) of signs representing numbers from 0 to 5 (180 pictures per number).\n",
        "- **Test set**: 120 pictures (64 by 64 pixels) of signs representing numbers from 0 to 5 (20 pictures per number).\n",
        "\n",
        "Note that this is a subset of the SIGNS dataset. The complete dataset contains many more signs.\n",
        "\n",
        "Here are examples for each number, and how an explanation of how we represent the labels. These are the original pictures, before we lowered the image resolutoion to 64 by 64 pixels.\n",
        "<img src=\"http://upscfever.com/upsc-fever/en/data/deeplearning2/images/hands.png\" style=\"width:800px;height:350px;\"><caption><center> <u><font color='purple'> **Figure 1**</u><font color='purple'>: SIGNS dataset <br> <font color='black'> </center>\n",
        "\n",
        "\n",
        "Run the following code to load the dataset."
      ]
    },
    {
      "cell_type": "code",
      "metadata": {
        "id": "cKtlc1TGGemq",
        "colab_type": "code",
        "outputId": "324e5566-f024-4028-9c0f-4797db11f2b5",
        "colab": {
          "base_uri": "https://localhost:8080/",
          "height": 391
        }
      },
      "source": [
        "# Loading the dataset\n",
        "X_train_orig, Y_train_orig, X_test_orig, Y_test_orig, classes = load_dataset()"
      ],
      "execution_count": 0,
      "outputs": [
        {
          "output_type": "stream",
          "text": [
            "--2020-02-25 08:55:34--  http://upscfever.com/upsc-fever/en/data/deeplearning2/images/train_signs.h5\n",
            "Resolving upscfever.com (upscfever.com)... 104.27.176.133, 104.27.177.133, 2606:4700:3033::681b:b185, ...\n",
            "Connecting to upscfever.com (upscfever.com)|104.27.176.133|:80... connected.\n",
            "HTTP request sent, awaiting response... 200 OK\n",
            "Length: unspecified\n",
            "Saving to: ‘drive/app/train_signs.h5’\n",
            "\n",
            "train_signs.h5          [      <=>           ]  12.67M  1.99MB/s    in 6.9s    \n",
            "\n",
            "2020-02-25 08:55:42 (1.85 MB/s) - ‘drive/app/train_signs.h5’ saved [13281872]\n",
            "\n",
            "--2020-02-25 08:55:44--  http://upscfever.com/upsc-fever/en/data/deeplearning2/images/test_signs.h5\n",
            "Resolving upscfever.com (upscfever.com)... 104.27.176.133, 104.27.177.133, 2606:4700:3033::681b:b185, ...\n",
            "Connecting to upscfever.com (upscfever.com)|104.27.176.133|:80... connected.\n",
            "HTTP request sent, awaiting response... 200 OK\n",
            "Length: unspecified\n",
            "Saving to: ‘drive/app/test_signs.h5’\n",
            "\n",
            "test_signs.h5           [       <=>          ]   1.41M   953KB/s    in 1.5s    \n",
            "\n",
            "2020-02-25 08:55:46 (953 KB/s) - ‘drive/app/test_signs.h5’ saved [1477712]\n",
            "\n"
          ],
          "name": "stdout"
        }
      ]
    },
    {
      "cell_type": "markdown",
      "metadata": {
        "id": "BKtxfCCjGemt",
        "colab_type": "text"
      },
      "source": [
        "Change the index below and run the cell to visualize some examples in the dataset."
      ]
    },
    {
      "cell_type": "code",
      "metadata": {
        "id": "L_oAoAQDGemt",
        "colab_type": "code",
        "outputId": "957e7a8e-1e81-40d9-e520-c2c73fe3dce6",
        "colab": {
          "base_uri": "https://localhost:8080/",
          "height": 285
        }
      },
      "source": [
        "# Example of a picture\n",
        "index = 0\n",
        "plt.imshow(X_train_orig[index])\n",
        "print (\"y = \" + str(np.squeeze(Y_train_orig[:, index])))"
      ],
      "execution_count": 0,
      "outputs": [
        {
          "output_type": "stream",
          "text": [
            "y = 5\n"
          ],
          "name": "stdout"
        },
        {
          "output_type": "display_data",
          "data": {
            "image/png": "[encoded data removed]",
            "text/plain": [
              "<Figure size 432x288 with 1 Axes>"
            ]
          },
          "metadata": {
            "tags": []
          }
        }
      ]
    },
    {
      "cell_type": "markdown",
      "metadata": {
        "id": "qu3K9ZmaGemw",
        "colab_type": "text"
      },
      "source": [
        "As usual you flatten the image dataset, then normalize it by dividing by 255. On top of that, you will convert each label to a one-hot vector as shown in Figure 1. Run the cell below to do so."
      ]
    },
    {
      "cell_type": "code",
      "metadata": {
        "id": "F-esHrtVGemw",
        "colab_type": "code",
        "outputId": "d63dd550-1695-435d-898d-7978687c4f02",
        "colab": {
          "base_uri": "https://localhost:8080/",
          "height": 119
        }
      },
      "source": [
        "# Flatten the training and test images\n",
        "X_train_flatten = X_train_orig.reshape(X_train_orig.shape[0], -1).T\n",
        "X_test_flatten = X_test_orig.reshape(X_test_orig.shape[0], -1).T\n",
        "# Normalize image vectors\n",
        "X_train = X_train_flatten/255.\n",
        "X_test = X_test_flatten/255.\n",
        "# Convert training and test labels to one hot matrices\n",
        "Y_train = convert_to_one_hot(Y_train_orig, 6)\n",
        "Y_test = convert_to_one_hot(Y_test_orig, 6)\n",
        "\n",
        "print (\"number of training examples = \" + str(X_train.shape[1]))\n",
        "print (\"number of test examples = \" + str(X_test.shape[1]))\n",
        "print (\"X_train shape: \" + str(X_train.shape))\n",
        "print (\"Y_train shape: \" + str(Y_train.shape))\n",
        "print (\"X_test shape: \" + str(X_test.shape))\n",
        "print (\"Y_test shape: \" + str(Y_test.shape))"
      ],
      "execution_count": 0,
      "outputs": [
        {
          "output_type": "stream",
          "text": [
            "number of training examples = 1080\n",
            "number of test examples = 120\n",
            "X_train shape: (12288, 1080)\n",
            "Y_train shape: (6, 1080)\n",
            "X_test shape: (12288, 120)\n",
            "Y_test shape: (6, 120)\n"
          ],
          "name": "stdout"
        }
      ]
    },
    {
      "cell_type": "markdown",
      "metadata": {
        "id": "wEFe2maRGemy",
        "colab_type": "text"
      },
      "source": [
        "**Note** that 12288 comes from $64 \\times 64 \\times 3$. Each image is square, 64 by 64 pixels, and 3 is for the RGB colors. Please make sure all these shapes make sense to you before continuing."
      ]
    },
    {
      "cell_type": "markdown",
      "metadata": {
        "id": "_pizYdkbGemz",
        "colab_type": "text"
      },
      "source": [
        "**Your goal** is to build an algorithm capable of recognizing a sign with high accuracy. To do so, you are going to build a tensorflow model that is almost the same as one you have previously built in numpy for cat recognition (but now using a softmax output). It is a great occasion to compare your numpy implementation to the tensorflow one. \n",
        "\n",
        "**The model** is *LINEAR -> RELU -> LINEAR -> RELU -> LINEAR -> SOFTMAX*. The SIGMOID output layer has been converted to a SOFTMAX. A SOFTMAX layer generalizes SIGMOID to when there are more than two classes. "
      ]
    },
    {
      "cell_type": "markdown",
      "metadata": {
        "id": "GO0IOgeKGemz",
        "colab_type": "text"
      },
      "source": [
        "### 2.1 - Create placeholders\n",
        "\n",
        "Your first task is to create placeholders for `X` and `Y`. This will allow you to later pass your training data in when you run your session. \n",
        "\n",
        "**Exercise:** Implement the function below to create the placeholders in tensorflow."
      ]
    },
    {
      "cell_type": "code",
      "metadata": {
        "id": "4IAYb95uGem1",
        "colab_type": "code",
        "colab": {}
      },
      "source": [
        "# GRADED FUNCTION: create_placeholders\n",
        "\n",
        "def create_placeholders(n_x, n_y):\n",
        "    \"\"\"\n",
        "    Creates the placeholders for the tensorflow session.\n",
        "    \n",
        "    Arguments:\n",
        "    n_x -- scalar, size of an image vector (num_px * num_px = 64 * 64 * 3 = 12288)\n",
        "    n_y -- scalar, number of classes (from 0 to 5, so -> 6)\n",
        "    \n",
        "    Returns:\n",
        "    X -- placeholder for the data input, of shape [n_x, None] and dtype \"float\"\n",
        "    Y -- placeholder for the input labels, of shape [n_y, None] and dtype \"float\"\n",
        "    \n",
        "    Tips:\n",
        "    - You will use None because it let's us be flexible on the number of examples you will for the placeholders.\n",
        "      In fact, the number of examples during test/train is different.\n",
        "    \"\"\"\n",
        "\n",
        "    ### START CODE HERE ### (approx. 2 lines)\n",
        "    X = tf.placeholder(tf.float32,shape=[n_x, None],name=\"X\")\n",
        "    Y = tf.placeholder(tf.float32,shape=[n_y, None],name=\"Y\")\n",
        "    ### END CODE HERE ###\n",
        "    \n",
        "    return X, Y"
      ],
      "execution_count": 0,
      "outputs": []
    },
    {
      "cell_type": "code",
      "metadata": {
        "id": "rVJ5xR-AGem2",
        "colab_type": "code",
        "outputId": "e34646a8-eb39-48bc-c5ed-0d622001efe0",
        "colab": {
          "base_uri": "https://localhost:8080/",
          "height": 51
        }
      },
      "source": [
        "X, Y = create_placeholders(12288, 6)\n",
        "print (\"X = \" + str(X))\n",
        "print (\"Y = \" + str(Y))"
      ],
      "execution_count": 0,
      "outputs": [
        {
          "output_type": "stream",
          "text": [
            "X = Tensor(\"X_5:0\", shape=(12288, ?), dtype=float32)\n",
            "Y = Tensor(\"Y_2:0\", shape=(6, ?), dtype=float32)\n"
          ],
          "name": "stdout"
        }
      ]
    },
    {
      "cell_type": "markdown",
      "metadata": {
        "id": "U5nFyqxCGem5",
        "colab_type": "text"
      },
      "source": [
        "**Expected Output**: \n",
        "\n",
        "<table> \n",
        "    <tr> \n",
        "        <td>\n",
        "            **X**\n",
        "        </td>\n",
        "        <td>\n",
        "        Tensor(\"Placeholder_1:0\", shape=(12288, ?), dtype=float32) (not necessarily Placeholder_1)\n",
        "        </td>\n",
        "    </tr>\n",
        "    <tr> \n",
        "        <td>\n",
        "            **Y**\n",
        "        </td>\n",
        "        <td>\n",
        "        Tensor(\"Placeholder_2:0\", shape=(10, ?), dtype=float32) (not necessarily Placeholder_2)\n",
        "        </td>\n",
        "    </tr>\n",
        "\n",
        "</table>"
      ]
    },
    {
      "cell_type": "markdown",
      "metadata": {
        "id": "4q-72abNGem5",
        "colab_type": "text"
      },
      "source": [
        "### 2.2 - Initializing the parameters\n",
        "\n",
        "Your second task is to initialize the parameters in tensorflow.\n",
        "\n",
        "**Exercise:** Implement the function below to initialize the parameters in tensorflow. You are going use Xavier Initialization for weights and Zero Initialization for biases. The shapes are given below. As an example, to help you, for W1 and b1 you could use: \n",
        "\n",
        "```python\n",
        "W1 = tf.get_variable(\"W1\", [25,12288], initializer = tf.contrib.layers.xavier_initializer(seed = 1))\n",
        "b1 = tf.get_variable(\"b1\", [25,1], initializer = tf.zeros_initializer())\n",
        "```\n",
        "Please use `seed = 1` to make sure your results match ours."
      ]
    },
    {
      "cell_type": "code",
      "metadata": {
        "id": "rk7b_89DGem6",
        "colab_type": "code",
        "colab": {}
      },
      "source": [
        "# GRADED FUNCTION: initialize_parameters\n",
        "\n",
        "def initialize_parameters():\n",
        "    \"\"\"\n",
        "    Initializes parameters to build a neural network with tensorflow. The shapes are:\n",
        "                        W1 : [25, 12288]\n",
        "                        b1 : [25, 1]\n",
        "                        W2 : [12, 25]\n",
        "                        b2 : [12, 1]\n",
        "                        W3 : [6, 12]\n",
        "                        b3 : [6, 1]\n",
        "    \n",
        "    Returns:\n",
        "    parameters -- a dictionary of tensors containing W1, b1, W2, b2, W3, b3\n",
        "    \"\"\"\n",
        "    \n",
        "    tf.set_random_seed(1)                   # so that your \"random\" numbers match ours\n",
        "        \n",
        "    ### START CODE HERE ### (approx. 6 lines of code)\n",
        "    W1 = tf.get_variable(\"W1\", [25,12288], initializer = tf.contrib.layers.xavier_initializer(seed = 1))\n",
        "    b1 = tf.get_variable(\"b1\", [25,1], initializer = tf.zeros_initializer())\n",
        "    W2 = tf.get_variable(\"W2\", [12,25], initializer = tf.contrib.layers.xavier_initializer(seed = 1))\n",
        "    b2 = tf.get_variable(\"b2\", [12,1], initializer = tf.zeros_initializer())\n",
        "    W3 = tf.get_variable(\"W3\", [6,12], initializer = tf.contrib.layers.xavier_initializer(seed = 1))\n",
        "    b3 = tf.get_variable(\"b3\", [6,1], initializer = tf.zeros_initializer())\n",
        "    ### END CODE HERE ###\n",
        "\n",
        "    parameters = {\"W1\": W1,\n",
        "                  \"b1\": b1,\n",
        "                  \"W2\": W2,\n",
        "                  \"b2\": b2,\n",
        "                  \"W3\": W3,\n",
        "                  \"b3\": b3}\n",
        "    \n",
        "    return parameters"
      ],
      "execution_count": 0,
      "outputs": []
    },
    {
      "cell_type": "code",
      "metadata": {
        "id": "VdUay8YpGem9",
        "colab_type": "code",
        "outputId": "e22ca67e-143d-4a2a-bd21-7c16571c9015",
        "colab": {
          "base_uri": "https://localhost:8080/",
          "height": 221
        }
      },
      "source": [
        "tf.reset_default_graph()\n",
        "with tf.Session() as sess:\n",
        "    parameters = initialize_parameters()\n",
        "    print(\"W1 = \" + str(parameters[\"W1\"]))\n",
        "    print(\"b1 = \" + str(parameters[\"b1\"]))\n",
        "    print(\"W2 = \" + str(parameters[\"W2\"]))\n",
        "    print(\"b2 = \" + str(parameters[\"b2\"]))"
      ],
      "execution_count": 0,
      "outputs": [
        {
          "output_type": "stream",
          "text": [
            "WARNING:tensorflow:\n",
            "The TensorFlow contrib module will not be included in TensorFlow 2.0.\n",
            "For more information, please see:\n",
            "  * https://github.com/tensorflow/community/blob/master/rfcs/20180907-contrib-sunset.md\n",
            "  * https://github.com/tensorflow/addons\n",
            "  * https://github.com/tensorflow/io (for I/O related ops)\n",
            "If you depend on functionality not listed there, please file an issue.\n",
            "\n",
            "W1 = <tf.Variable 'W1:0' shape=(25, 12288) dtype=float32_ref>\n",
            "b1 = <tf.Variable 'b1:0' shape=(25, 1) dtype=float32_ref>\n",
            "W2 = <tf.Variable 'W2:0' shape=(12, 25) dtype=float32_ref>\n",
            "b2 = <tf.Variable 'b2:0' shape=(12, 1) dtype=float32_ref>\n"
          ],
          "name": "stdout"
        }
      ]
    },
    {
      "cell_type": "markdown",
      "metadata": {
        "id": "bOEpNK8RGem_",
        "colab_type": "text"
      },
      "source": [
        "**Expected Output**: \n",
        "\n",
        "<table> \n",
        "    <tr> \n",
        "        <td>\n",
        "            **W1**\n",
        "        </td>\n",
        "        <td>\n",
        "         < tf.Variable 'W1:0' shape=(25, 12288) dtype=float32_ref >\n",
        "        </td>\n",
        "    </tr>\n",
        "    <tr> \n",
        "        <td>\n",
        "            **b1**\n",
        "        </td>\n",
        "        <td>\n",
        "        < tf.Variable 'b1:0' shape=(25, 1) dtype=float32_ref >\n",
        "        </td>\n",
        "    </tr>\n",
        "    <tr> \n",
        "        <td>\n",
        "            **W2**\n",
        "        </td>\n",
        "        <td>\n",
        "        < tf.Variable 'W2:0' shape=(12, 25) dtype=float32_ref >\n",
        "        </td>\n",
        "    </tr>\n",
        "    <tr> \n",
        "        <td>\n",
        "            **b2**\n",
        "        </td>\n",
        "        <td>\n",
        "        < tf.Variable 'b2:0' shape=(12, 1) dtype=float32_ref >\n",
        "        </td>\n",
        "    </tr>\n",
        "\n",
        "</table>"
      ]
    },
    {
      "cell_type": "markdown",
      "metadata": {
        "id": "ww4mZX1wGem_",
        "colab_type": "text"
      },
      "source": [
        "As expected, the parameters haven't been evaluated yet."
      ]
    },
    {
      "cell_type": "markdown",
      "metadata": {
        "id": "aN8nP4GTGenA",
        "colab_type": "text"
      },
      "source": [
        "### 2.3 - Forward propagation in tensorflow \n",
        "\n",
        "You will now implement the forward propagation module in tensorflow. The function will take in a dictionary of parameters and it will complete the forward pass. The functions you will be using are: \n",
        "\n",
        "- `tf.add(...,...)` to do an addition\n",
        "- `tf.matmul(...,...)` to do a matrix multiplication\n",
        "- `tf.nn.relu(...)` to apply the ReLU activation\n",
        "\n",
        "**Question:** Implement the forward pass of the neural network. We commented for you the numpy equivalents so that you can compare the tensorflow implementation to numpy. It is important to note that the forward propagation stops at `z3`. The reason is that in tensorflow the last linear layer output is given as input to the function computing the loss. Therefore, you don't need `a3`!\n",
        "\n"
      ]
    },
    {
      "cell_type": "code",
      "metadata": {
        "id": "ZFHJkQD9GenA",
        "colab_type": "code",
        "colab": {}
      },
      "source": [
        "# GRADED FUNCTION: forward_propagation\n",
        "\n",
        "def forward_propagation(X, parameters):\n",
        "    \"\"\"\n",
        "    Implements the forward propagation for the model: LINEAR -> RELU -> LINEAR -> RELU -> LINEAR -> SOFTMAX\n",
        "    \n",
        "    Arguments:\n",
        "    X -- input dataset placeholder, of shape (input size, number of examples)\n",
        "    parameters -- python dictionary containing your parameters \"W1\", \"b1\", \"W2\", \"b2\", \"W3\", \"b3\"\n",
        "                  the shapes are given in initialize_parameters\n",
        "\n",
        "    Returns:\n",
        "    Z3 -- the output of the last LINEAR unit\n",
        "    \"\"\"\n",
        "    \n",
        "    # Retrieve the parameters from the dictionary \"parameters\" \n",
        "    W1 = parameters['W1']\n",
        "    b1 = parameters['b1']\n",
        "    W2 = parameters['W2']\n",
        "    b2 = parameters['b2']\n",
        "    W3 = parameters['W3']\n",
        "    b3 = parameters['b3']\n",
        "    \n",
        "    ### START CODE HERE ### (approx. 5 lines)              # Numpy Equivalents:\n",
        "    Z1 = tf.add(tf.matmul(W1,X),b1)                                  # Z1 = np.dot(W1, X) + b1\n",
        "    A1 = tf.nn.relu(Z1)                                              # A1 = relu(Z1)\n",
        "    Z2 = tf.add(tf.matmul(W2,A1),b2)                                 # Z2 = np.dot(W2, a1) + b2\n",
        "    A2 = tf.nn.relu(Z2)                                              # A2 = relu(Z2)\n",
        "    Z3 = tf.add(tf.matmul(W3,A2),b3)                                 # Z3 = np.dot(W3,Z2) + b3\n",
        "    ### END CODE HERE ###\n",
        "    \n",
        "    return Z3"
      ],
      "execution_count": 0,
      "outputs": []
    },
    {
      "cell_type": "code",
      "metadata": {
        "scrolled": true,
        "id": "FlDOXgATGenC",
        "colab_type": "code",
        "outputId": "4c529efb-e151-4b5a-d1aa-148ee6c8026c",
        "colab": {
          "base_uri": "https://localhost:8080/",
          "height": 34
        }
      },
      "source": [
        "tf.reset_default_graph()\n",
        "\n",
        "with tf.Session() as sess:\n",
        "    X, Y = create_placeholders(12288, 6)\n",
        "    parameters = initialize_parameters()\n",
        "    Z3 = forward_propagation(X, parameters)\n",
        "    print(\"Z3 = \" + str(Z3))"
      ],
      "execution_count": 0,
      "outputs": [
        {
          "output_type": "stream",
          "text": [
            "Z3 = Tensor(\"Add_2:0\", shape=(6, ?), dtype=float32)\n"
          ],
          "name": "stdout"
        }
      ]
    },
    {
      "cell_type": "markdown",
      "metadata": {
        "id": "nDlWHHkjGenE",
        "colab_type": "text"
      },
      "source": [
        "**Expected Output**: \n",
        "\n",
        "<table> \n",
        "    <tr> \n",
        "        <td>\n",
        "            **Z3**\n",
        "        </td>\n",
        "        <td>\n",
        "        Tensor(\"Add_2:0\", shape=(6, ?), dtype=float32)\n",
        "        </td>\n",
        "    </tr>\n",
        "\n",
        "</table>"
      ]
    },
    {
      "cell_type": "markdown",
      "metadata": {
        "id": "FBAUfTg7GenE",
        "colab_type": "text"
      },
      "source": [
        "You may have noticed that the forward propagation doesn't output any cache. You will understand why below, when we get to brackpropagation."
      ]
    },
    {
      "cell_type": "markdown",
      "metadata": {
        "id": "cf451NzQGenF",
        "colab_type": "text"
      },
      "source": [
        "### 2.4 Compute cost\n",
        "\n",
        "As seen before, it is very easy to compute the cost using:\n",
        "```python\n",
        "tf.reduce_mean(tf.nn.softmax_cross_entropy_with_logits(logits = ..., labels = ...))\n",
        "```\n",
        "**Question**: Implement the cost function below. \n",
        "- It is important to know that the \"`logits`\" and \"`labels`\" inputs of `tf.nn.softmax_cross_entropy_with_logits` are expected to be of shape (number of examples, num_classes). We have thus transposed Z3 and Y for you.\n",
        "- Besides, `tf.reduce_mean` basically does the summation over the examples."
      ]
    },
    {
      "cell_type": "code",
      "metadata": {
        "id": "y4JwHyfYGenF",
        "colab_type": "code",
        "colab": {}
      },
      "source": [
        "# GRADED FUNCTION: compute_cost \n",
        "\n",
        "def compute_cost(Z3, Y):\n",
        "    \"\"\"\n",
        "    Computes the cost\n",
        "    \n",
        "    Arguments:\n",
        "    Z3 -- output of forward propagation (output of the last LINEAR unit), of shape (6, number of examples)\n",
        "    Y -- \"true\" labels vector placeholder, same shape as Z3\n",
        "    \n",
        "    Returns:\n",
        "    cost - Tensor of the cost function\n",
        "    \"\"\"\n",
        "    \n",
        "    # to fit the tensorflow requirement for tf.nn.softmax_cross_entropy_with_logits(...,...)\n",
        "    logits = tf.transpose(Z3)\n",
        "    labels = tf.transpose(Y)\n",
        "    \n",
        "    ### START CODE HERE ### (1 line of code)\n",
        "    cost = tf.reduce_mean(tf.nn.softmax_cross_entropy_with_logits(logits = logits, labels = labels))\n",
        "    ### END CODE HERE ###\n",
        "    \n",
        "    return cost"
      ],
      "execution_count": 0,
      "outputs": []
    },
    {
      "cell_type": "code",
      "metadata": {
        "id": "3c1Q6bhhGenH",
        "colab_type": "code",
        "outputId": "6a6a0dd6-63ef-4efe-a739-62bd3d76d66e",
        "colab": {
          "base_uri": "https://localhost:8080/",
          "height": 190
        }
      },
      "source": [
        "tf.reset_default_graph()\n",
        "\n",
        "with tf.Session() as sess:\n",
        "    X, Y = create_placeholders(12288, 6)\n",
        "    parameters = initialize_parameters()\n",
        "    Z3 = forward_propagation(X, parameters)\n",
        "    cost = compute_cost(Z3, Y)\n",
        "    print(\"cost = \" + str(cost))"
      ],
      "execution_count": 0,
      "outputs": [
        {
          "output_type": "stream",
          "text": [
            "WARNING:tensorflow:From <ipython-input-29-f9404afa408b>:19: softmax_cross_entropy_with_logits (from tensorflow.python.ops.nn_ops) is deprecated and will be removed in a future version.\n",
            "Instructions for updating:\n",
            "\n",
            "Future major versions of TensorFlow will allow gradients to flow\n",
            "into the labels input on backprop by default.\n",
            "\n",
            "See `tf.nn.softmax_cross_entropy_with_logits_v2`.\n",
            "\n",
            "cost = Tensor(\"Mean:0\", shape=(), dtype=float32)\n"
          ],
          "name": "stdout"
        }
      ]
    },
    {
      "cell_type": "markdown",
      "metadata": {
        "id": "HFigDbUnGenJ",
        "colab_type": "text"
      },
      "source": [
        "**Expected Output**: \n",
        "\n",
        "<table> \n",
        "    <tr> \n",
        "        <td>\n",
        "            **cost**\n",
        "        </td>\n",
        "        <td>\n",
        "        Tensor(\"Mean:0\", shape=(), dtype=float32)\n",
        "        </td>\n",
        "    </tr>\n",
        "\n",
        "</table>"
      ]
    },
    {
      "cell_type": "markdown",
      "metadata": {
        "id": "pAnNRC2ZGenJ",
        "colab_type": "text"
      },
      "source": [
        "### 2.5 - Backward propagation & parameter updates\n",
        "\n",
        "This is where you become grateful to programming frameworks. All the backpropagation and the parameters update is taken care of in 1 line of code. It is very easy to incorporate this line in the model.\n",
        "\n",
        "After you compute the cost function. You will create an \"`optimizer`\" object. You have to call this object along with the cost when running the tf.session. When called, it will perform an optimization on the given cost with the chosen method and learning rate.\n",
        "\n",
        "For instance, for gradient descent the optimizer would be:\n",
        "```python\n",
        "optimizer = tf.train.GradientDescentOptimizer(learning_rate = learning_rate).minimize(cost)\n",
        "```\n",
        "\n",
        "To make the optimization you would do:\n",
        "```python\n",
        "_ , c = sess.run([optimizer, cost], feed_dict={X: minibatch_X, Y: minibatch_Y})\n",
        "```\n",
        "\n",
        "This computes the backpropagation by passing through the tensorflow graph in the reverse order. From cost to inputs.\n",
        "\n",
        "**Note** When coding, we often use `_` as a \"throwaway\" variable to store values that we won't need to use later. Here, `_` takes on the evaluated value of `optimizer`, which we don't need (and `c` takes the value of the `cost` variable). "
      ]
    },
    {
      "cell_type": "markdown",
      "metadata": {
        "id": "uK_x-RrMGenK",
        "colab_type": "text"
      },
      "source": [
        "### 2.6 - Building the model\n",
        "\n",
        "Now, you will bring it all together! \n",
        "\n",
        "**Exercise:** Implement the model. You will be calling the functions you had previously implemented."
      ]
    },
    {
      "cell_type": "code",
      "metadata": {
        "id": "3ih3F3z0GenK",
        "colab_type": "code",
        "colab": {}
      },
      "source": [
        "def model(X_train, Y_train, X_test, Y_test, learning_rate = 0.0001,\n",
        "          num_epochs = 1500, minibatch_size = 32, print_cost = True):\n",
        "    \"\"\"\n",
        "    Implements a three-layer tensorflow neural network: LINEAR->RELU->LINEAR->RELU->LINEAR->SOFTMAX.\n",
        "    \n",
        "    Arguments:\n",
        "    X_train -- training set, of shape (input size = 12288, number of training examples = 1080)\n",
        "    Y_train -- test set, of shape (output size = 6, number of training examples = 1080)\n",
        "    X_test -- training set, of shape (input size = 12288, number of training examples = 120)\n",
        "    Y_test -- test set, of shape (output size = 6, number of test examples = 120)\n",
        "    learning_rate -- learning rate of the optimization\n",
        "    num_epochs -- number of epochs of the optimization loop\n",
        "    minibatch_size -- size of a minibatch\n",
        "    print_cost -- True to print the cost every 100 epochs\n",
        "    \n",
        "    Returns:\n",
        "    parameters -- parameters learnt by the model. They can then be used to predict.\n",
        "    \"\"\"\n",
        "    \n",
        "    ops.reset_default_graph()                         # to be able to rerun the model without overwriting tf variables\n",
        "    tf.set_random_seed(1)                             # to keep consistent results\n",
        "    seed = 3                                          # to keep consistent results\n",
        "    (n_x, m) = X_train.shape                          # (n_x: input size, m : number of examples in the train set)\n",
        "    n_y = Y_train.shape[0]                            # n_y : output size\n",
        "    costs = []                                        # To keep track of the cost\n",
        "    \n",
        "    # Create Placeholders of shape (n_x, n_y)\n",
        "    ### START CODE HERE ### (1 line)\n",
        "    X, Y = create_placeholders(n_x, n_y)\n",
        "    ### END CODE HERE ###\n",
        "\n",
        "    # Initialize parameters\n",
        "    ### START CODE HERE ### (1 line)\n",
        "    parameters = initialize_parameters()\n",
        "    ### END CODE HERE ###\n",
        "    \n",
        "    # Forward propagation: Build the forward propagation in the tensorflow graph\n",
        "    ### START CODE HERE ### (1 line)\n",
        "    Z3 = forward_propagation(X, parameters)\n",
        "    ### END CODE HERE ###\n",
        "    \n",
        "    # Cost function: Add cost function to tensorflow graph\n",
        "    ### START CODE HERE ### (1 line)\n",
        "    cost = compute_cost(Z3, Y)\n",
        "    ### END CODE HERE ###\n",
        "    \n",
        "    # Backpropagation: Define the tensorflow optimizer. Use an AdamOptimizer.\n",
        "    ### START CODE HERE ### (1 line)\n",
        "    optimizer = tf.train.AdamOptimizer(learning_rate = learning_rate).minimize(cost)\n",
        "    ### END CODE HERE ###\n",
        "    \n",
        "    # Initialize all the variables\n",
        "    init = tf.global_variables_initializer()\n",
        "\n",
        "    # Start the session to compute the tensorflow graph\n",
        "    with tf.Session() as sess:\n",
        "        \n",
        "        # Run the initialization\n",
        "        sess.run(init)\n",
        "        \n",
        "        # Do the training loop\n",
        "        for epoch in range(num_epochs):\n",
        "\n",
        "            epoch_cost = 0.                       # Defines a cost related to an epoch\n",
        "            num_minibatches = int(m / minibatch_size) # number of minibatches of size minibatch_size in the train set\n",
        "            seed = seed + 1\n",
        "            minibatches = random_mini_batches(X_train, Y_train, minibatch_size, seed)\n",
        "\n",
        "            for minibatch in minibatches:\n",
        "\n",
        "                # Select a minibatch\n",
        "                (minibatch_X, minibatch_Y) = minibatch\n",
        "                \n",
        "                # IMPORTANT: The line that runs the graph on a minibatch.\n",
        "                # Run the session to execute the \"optimizer\" and the \"cost\", the feedict should contain a minibatch for (X,Y).\n",
        "                ### START CODE HERE ### (1 line)\n",
        "                _ , minibatch_cost = sess.run([optimizer, cost], feed_dict={X: minibatch_X, Y: minibatch_Y})\n",
        "                ### END CODE HERE ###\n",
        "                \n",
        "                epoch_cost += minibatch_cost / num_minibatches\n",
        "\n",
        "            # Print the cost every epoch\n",
        "            if print_cost == True and epoch % 100 == 0:\n",
        "                print (\"Cost after epoch %i: %f\" % (epoch, epoch_cost))\n",
        "            if print_cost == True and epoch % 5 == 0:\n",
        "                costs.append(epoch_cost)\n",
        "                \n",
        "        # plot the cost\n",
        "        plt.plot(np.squeeze(costs))\n",
        "        plt.ylabel('cost')\n",
        "        plt.xlabel('iterations (per tens)')\n",
        "        plt.title(\"Learning rate =\" + str(learning_rate))\n",
        "        plt.show()\n",
        "\n",
        "        # lets save the parameters in a variable\n",
        "        parameters = sess.run(parameters)\n",
        "        print (\"Parameters have been trained!\")\n",
        "\n",
        "        # Calculate the correct predictions\n",
        "        correct_prediction = tf.equal(tf.argmax(Z3), tf.argmax(Y))\n",
        "\n",
        "        # Calculate accuracy on the test set\n",
        "        accuracy = tf.reduce_mean(tf.cast(correct_prediction, \"float\"))\n",
        "\n",
        "        print (\"Train Accuracy:\", accuracy.eval({X: X_train, Y: Y_train}))\n",
        "        print (\"Test Accuracy:\", accuracy.eval({X: X_test, Y: Y_test}))\n",
        "        \n",
        "        return parameters"
      ],
      "execution_count": 0,
      "outputs": []
    },
    {
      "cell_type": "markdown",
      "metadata": {
        "collapsed": true,
        "id": "I3VPjrfxGenN",
        "colab_type": "text"
      },
      "source": [
        "Run the following cell to train your model! On our machine it takes about 5 minutes. Your \"Cost after epoch 100\" should be 1.016458. If it's not, don't waste time; interrupt the training by clicking on the square (⬛) in the upper bar of the notebook, and try to correct your code. If it is the correct cost, take a break and come back in 5 minutes!"
      ]
    },
    {
      "cell_type": "code",
      "metadata": {
        "scrolled": false,
        "id": "ZB4q6YslGenO",
        "colab_type": "code",
        "outputId": "79c0c0c7-368f-40f0-dba0-ad5da9086c6e",
        "colab": {
          "base_uri": "https://localhost:8080/",
          "height": 601
        }
      },
      "source": [
        "parameters = model(X_train, Y_train, X_test, Y_test)"
      ],
      "execution_count": 0,
      "outputs": [
        {
          "output_type": "stream",
          "text": [
            "Cost after epoch 0: 1.855702\n",
            "Cost after epoch 100: 1.016458\n",
            "Cost after epoch 200: 0.733103\n",
            "Cost after epoch 300: 0.572939\n",
            "Cost after epoch 400: 0.468774\n",
            "Cost after epoch 500: 0.381015\n",
            "Cost after epoch 600: 0.313829\n",
            "Cost after epoch 700: 0.254167\n",
            "Cost after epoch 800: 0.203815\n",
            "Cost after epoch 900: 0.166343\n",
            "Cost after epoch 1000: 0.140951\n",
            "Cost after epoch 1100: 0.107597\n",
            "Cost after epoch 1200: 0.086728\n",
            "Cost after epoch 1300: 0.061020\n",
            "Cost after epoch 1400: 0.050965\n"
          ],
          "name": "stdout"
        },
        {
          "output_type": "display_data",
          "data": {
            "image/png": "[encoded data removed]",
            "text/plain": [
              "<Figure size 432x288 with 1 Axes>"
            ]
          },
          "metadata": {
            "tags": []
          }
        },
        {
          "output_type": "stream",
          "text": [
            "Parameters have been trained!\n",
            "Train Accuracy: 0.9990741\n",
            "Test Accuracy: 0.725\n"
          ],
          "name": "stdout"
        }
      ]
    },
    {
      "cell_type": "markdown",
      "metadata": {
        "id": "7bWeta4AGenY",
        "colab_type": "text"
      },
      "source": [
        "**Expected Output**:\n",
        "\n",
        "<table> \n",
        "    <tr> \n",
        "        <td>\n",
        "            **Train Accuracy**\n",
        "        </td>\n",
        "        <td>\n",
        "        0.999074\n",
        "        </td>\n",
        "    </tr>\n",
        "    <tr> \n",
        "        <td>\n",
        "            **Test Accuracy**\n",
        "        </td>\n",
        "        <td>\n",
        "        0.716667\n",
        "        </td>\n",
        "    </tr>\n",
        "\n",
        "</table>\n",
        "\n",
        "Amazing, your algorithm can recognize a sign representing a figure between 0 and 5 with 71.7% accuracy.\n",
        "\n",
        "**Insights**:\n",
        "- Your model seems big enough to fit the training set well. However, given the difference between train and test accuracy, you could try to add L2 or dropout regularization to reduce overfitting. \n",
        "- Think about the session as a block of code to train the model. Each time you run the session on a minibatch, it trains the parameters. In total you have run the session a large number of times (1500 epochs) until you obtained well trained parameters."
      ]
    },
    {
      "cell_type": "markdown",
      "metadata": {
        "collapsed": true,
        "id": "cASksgTzGenb",
        "colab_type": "text"
      },
      "source": [
        "<font color='blue'>\n",
        "**What you should remember**:\n",
        "- Tensorflow is a programming framework used in deep learning\n",
        "- The two main object classes in tensorflow are Tensors and Operators. \n",
        "- When you code in tensorflow you have to take the following steps:\n",
        "    - Create a graph containing Tensors (Variables, Placeholders ...) and Operations (tf.matmul, tf.add, ...)\n",
        "    - Create a session\n",
        "    - Initialize the session\n",
        "    - Run the session to execute the graph\n",
        "- You can execute the graph multiple times as you've seen in model()\n",
        "- The backpropagation and optimization is automatically done when running the session on the \"optimizer\" object."
      ]
    }
  ]
}